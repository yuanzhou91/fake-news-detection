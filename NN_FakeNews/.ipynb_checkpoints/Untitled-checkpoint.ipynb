{
 "cells": [
  {
   "cell_type": "code",
   "execution_count": 67,
   "metadata": {},
   "outputs": [],
   "source": [
    "# base modeling and model evaluation tools\n",
    "import tensorflow as tf\n",
    "from tensorflow import keras\n",
    "from sklearn import metrics\n",
    "\n",
    "# utility libraries for math and visualization\n",
    "import numpy as np\n",
    "import matplotlib.pyplot as plt\n",
    "import seaborn as sns\n",
    "import json\n",
    "import io\n",
    "import pandas as pd\n",
    "\n",
    "# utility for determining execution time\n",
    "# most useful for the training process\n",
    "from time import time \n",
    "\n",
    "import re\n",
    "import nltk\n",
    "from nltk.corpus import stopwords\n",
    "from nltk.stem.porter import PorterStemmer\n",
    "from nltk.stem import WordNetLemmatizer\n",
    "from sklearn.model_selection import train_test_split\n",
    "\n",
    "# natural language processing and neural network modeling methods\n",
    "from tensorflow.keras.preprocessing.text import Tokenizer\n",
    "from tensorflow.keras.preprocessing.sequence import pad_sequences\n",
    "from tensorflow.keras.models import Sequential\n",
    "from tensorflow.keras.layers import Dense \n",
    "from tensorflow.keras.layers import Embedding\n",
    "from tensorflow.keras.layers import Conv1D\n",
    "from tensorflow.keras.layers import GlobalMaxPooling1D\n",
    "from tensorflow.keras.utils import plot_model\n",
    "from tensorflow.keras.utils import to_categorical\n",
    "\n",
    "from tensorflow.keras.layers import Embedding,Flatten,Dense,LSTM\n",
    "from tensorflow.keras.preprocessing.sequence import pad_sequences\n",
    "from tensorflow.keras.models import Sequential\n",
    "from tensorflow.keras.preprocessing.text import one_hot"
   ]
  },
  {
   "cell_type": "code",
   "execution_count": 43,
   "metadata": {},
   "outputs": [
    {
     "name": "stdout",
     "output_type": "stream",
     "text": [
      "Text Classification with Neural Networks\n",
      "\n",
      "TensorFlow/Keras environment for this work:\n",
      "Numpy version:  1.18.1\n",
      "TensorFlow version:  2.1.0\n",
      "TensorFlow was built with CUDA:  True\n",
      "TensorFlow running with GPU:  False\n",
      "Keras version:  2.2.4-tf\n"
     ]
    }
   ],
   "source": [
    "print('Text Classification with Neural Networks\\n')\n",
    "# information about TensorFlow environment\n",
    "print('TensorFlow/Keras environment for this work:')\n",
    "print('Numpy version: ', np.__version__)\n",
    "print('TensorFlow version: ', tf.__version__)\n",
    "print('TensorFlow was built with CUDA: ', tf.test.is_built_with_cuda())\n",
    "print('TensorFlow running with GPU: ', tf.test.is_gpu_available())\n",
    "print('Keras version: ', tf.keras.__version__)"
   ]
  },
  {
   "cell_type": "code",
   "execution_count": 27,
   "metadata": {},
   "outputs": [],
   "source": [
    "# TensorFlow eager execution is default in version 2.x.x\n",
    "# but must be activated if version 1.x.x\n",
    "if tf.__version__.split('.')[0] == '1':\n",
    "    tf.enable_eager_execution()"
   ]
  },
  {
   "cell_type": "code",
   "execution_count": 97,
   "metadata": {},
   "outputs": [
    {
     "data": {
      "text/html": [
       "<div>\n",
       "<style scoped>\n",
       "    .dataframe tbody tr th:only-of-type {\n",
       "        vertical-align: middle;\n",
       "    }\n",
       "\n",
       "    .dataframe tbody tr th {\n",
       "        vertical-align: top;\n",
       "    }\n",
       "\n",
       "    .dataframe thead th {\n",
       "        text-align: right;\n",
       "    }\n",
       "</style>\n",
       "<table border=\"1\" class=\"dataframe\">\n",
       "  <thead>\n",
       "    <tr style=\"text-align: right;\">\n",
       "      <th></th>\n",
       "      <th>id</th>\n",
       "      <th>title</th>\n",
       "      <th>author</th>\n",
       "      <th>text</th>\n",
       "      <th>label</th>\n",
       "    </tr>\n",
       "  </thead>\n",
       "  <tbody>\n",
       "    <tr>\n",
       "      <th>0</th>\n",
       "      <td>0</td>\n",
       "      <td>House Dem Aide: We Didn’t Even See Comey’s Let...</td>\n",
       "      <td>Darrell Lucus</td>\n",
       "      <td>House Dem Aide: We Didn’t Even See Comey’s Let...</td>\n",
       "      <td>1</td>\n",
       "    </tr>\n",
       "    <tr>\n",
       "      <th>1</th>\n",
       "      <td>1</td>\n",
       "      <td>FLYNN: Hillary Clinton, Big Woman on Campus - ...</td>\n",
       "      <td>Daniel J. Flynn</td>\n",
       "      <td>Ever get the feeling your life circles the rou...</td>\n",
       "      <td>0</td>\n",
       "    </tr>\n",
       "    <tr>\n",
       "      <th>2</th>\n",
       "      <td>2</td>\n",
       "      <td>Why the Truth Might Get You Fired</td>\n",
       "      <td>Consortiumnews.com</td>\n",
       "      <td>Why the Truth Might Get You Fired October 29, ...</td>\n",
       "      <td>1</td>\n",
       "    </tr>\n",
       "    <tr>\n",
       "      <th>3</th>\n",
       "      <td>3</td>\n",
       "      <td>15 Civilians Killed In Single US Airstrike Hav...</td>\n",
       "      <td>Jessica Purkiss</td>\n",
       "      <td>Videos 15 Civilians Killed In Single US Airstr...</td>\n",
       "      <td>1</td>\n",
       "    </tr>\n",
       "    <tr>\n",
       "      <th>4</th>\n",
       "      <td>4</td>\n",
       "      <td>Iranian woman jailed for fictional unpublished...</td>\n",
       "      <td>Howard Portnoy</td>\n",
       "      <td>Print \\nAn Iranian woman has been sentenced to...</td>\n",
       "      <td>1</td>\n",
       "    </tr>\n",
       "  </tbody>\n",
       "</table>\n",
       "</div>"
      ],
      "text/plain": [
       "   id                                              title              author  \\\n",
       "0   0  House Dem Aide: We Didn’t Even See Comey’s Let...       Darrell Lucus   \n",
       "1   1  FLYNN: Hillary Clinton, Big Woman on Campus - ...     Daniel J. Flynn   \n",
       "2   2                  Why the Truth Might Get You Fired  Consortiumnews.com   \n",
       "3   3  15 Civilians Killed In Single US Airstrike Hav...     Jessica Purkiss   \n",
       "4   4  Iranian woman jailed for fictional unpublished...      Howard Portnoy   \n",
       "\n",
       "                                                text  label  \n",
       "0  House Dem Aide: We Didn’t Even See Comey’s Let...      1  \n",
       "1  Ever get the feeling your life circles the rou...      0  \n",
       "2  Why the Truth Might Get You Fired October 29, ...      1  \n",
       "3  Videos 15 Civilians Killed In Single US Airstr...      1  \n",
       "4  Print \\nAn Iranian woman has been sentenced to...      1  "
      ]
     },
     "execution_count": 97,
     "metadata": {},
     "output_type": "execute_result"
    }
   ],
   "source": [
    "vocab_size=10000\n",
    "train_data=pd.read_csv('Data/train.csv')\n",
    "train_data.head()"
   ]
  },
  {
   "cell_type": "code",
   "execution_count": 98,
   "metadata": {},
   "outputs": [
    {
     "data": {
      "text/plain": [
       "1    10413\n",
       "0    10387\n",
       "Name: label, dtype: int64"
      ]
     },
     "execution_count": 98,
     "metadata": {},
     "output_type": "execute_result"
    }
   ],
   "source": [
    "train_data['label'].value_counts()"
   ]
  },
  {
   "cell_type": "code",
   "execution_count": 99,
   "metadata": {},
   "outputs": [
    {
     "data": {
      "text/plain": [
       "(20800, 5)"
      ]
     },
     "execution_count": 99,
     "metadata": {},
     "output_type": "execute_result"
    }
   ],
   "source": [
    "train_data.shape"
   ]
  },
  {
   "cell_type": "code",
   "execution_count": 100,
   "metadata": {},
   "outputs": [
    {
     "name": "stdout",
     "output_type": "stream",
     "text": [
      "(18285, 5)\n"
     ]
    }
   ],
   "source": [
    "train_data=train_data.dropna()\n",
    "print(train_data.shape)"
   ]
  },
  {
   "cell_type": "code",
   "execution_count": 101,
   "metadata": {},
   "outputs": [
    {
     "data": {
      "text/html": [
       "<div>\n",
       "<style scoped>\n",
       "    .dataframe tbody tr th:only-of-type {\n",
       "        vertical-align: middle;\n",
       "    }\n",
       "\n",
       "    .dataframe tbody tr th {\n",
       "        vertical-align: top;\n",
       "    }\n",
       "\n",
       "    .dataframe thead th {\n",
       "        text-align: right;\n",
       "    }\n",
       "</style>\n",
       "<table border=\"1\" class=\"dataframe\">\n",
       "  <thead>\n",
       "    <tr style=\"text-align: right;\">\n",
       "      <th></th>\n",
       "      <th>id</th>\n",
       "      <th>title</th>\n",
       "      <th>author</th>\n",
       "      <th>text</th>\n",
       "    </tr>\n",
       "  </thead>\n",
       "  <tbody>\n",
       "    <tr>\n",
       "      <th>0</th>\n",
       "      <td>0</td>\n",
       "      <td>House Dem Aide: We Didn’t Even See Comey’s Let...</td>\n",
       "      <td>Darrell Lucus</td>\n",
       "      <td>House Dem Aide: We Didn’t Even See Comey’s Let...</td>\n",
       "    </tr>\n",
       "    <tr>\n",
       "      <th>1</th>\n",
       "      <td>1</td>\n",
       "      <td>FLYNN: Hillary Clinton, Big Woman on Campus - ...</td>\n",
       "      <td>Daniel J. Flynn</td>\n",
       "      <td>Ever get the feeling your life circles the rou...</td>\n",
       "    </tr>\n",
       "    <tr>\n",
       "      <th>2</th>\n",
       "      <td>2</td>\n",
       "      <td>Why the Truth Might Get You Fired</td>\n",
       "      <td>Consortiumnews.com</td>\n",
       "      <td>Why the Truth Might Get You Fired October 29, ...</td>\n",
       "    </tr>\n",
       "    <tr>\n",
       "      <th>3</th>\n",
       "      <td>3</td>\n",
       "      <td>15 Civilians Killed In Single US Airstrike Hav...</td>\n",
       "      <td>Jessica Purkiss</td>\n",
       "      <td>Videos 15 Civilians Killed In Single US Airstr...</td>\n",
       "    </tr>\n",
       "    <tr>\n",
       "      <th>4</th>\n",
       "      <td>4</td>\n",
       "      <td>Iranian woman jailed for fictional unpublished...</td>\n",
       "      <td>Howard Portnoy</td>\n",
       "      <td>Print \\nAn Iranian woman has been sentenced to...</td>\n",
       "    </tr>\n",
       "  </tbody>\n",
       "</table>\n",
       "</div>"
      ],
      "text/plain": [
       "   id                                              title              author  \\\n",
       "0   0  House Dem Aide: We Didn’t Even See Comey’s Let...       Darrell Lucus   \n",
       "1   1  FLYNN: Hillary Clinton, Big Woman on Campus - ...     Daniel J. Flynn   \n",
       "2   2                  Why the Truth Might Get You Fired  Consortiumnews.com   \n",
       "3   3  15 Civilians Killed In Single US Airstrike Hav...     Jessica Purkiss   \n",
       "4   4  Iranian woman jailed for fictional unpublished...      Howard Portnoy   \n",
       "\n",
       "                                                text  \n",
       "0  House Dem Aide: We Didn’t Even See Comey’s Let...  \n",
       "1  Ever get the feeling your life circles the rou...  \n",
       "2  Why the Truth Might Get You Fired October 29, ...  \n",
       "3  Videos 15 Civilians Killed In Single US Airstr...  \n",
       "4  Print \\nAn Iranian woman has been sentenced to...  "
      ]
     },
     "execution_count": 101,
     "metadata": {},
     "output_type": "execute_result"
    }
   ],
   "source": [
    "X=train_data.drop('label',axis=1)\n",
    "X.head()"
   ]
  },
  {
   "cell_type": "code",
   "execution_count": 102,
   "metadata": {},
   "outputs": [],
   "source": [
    "y=train_data['label']"
   ]
  },
  {
   "cell_type": "code",
   "execution_count": 103,
   "metadata": {},
   "outputs": [
    {
     "data": {
      "text/plain": [
       "(18285,)"
      ]
     },
     "execution_count": 103,
     "metadata": {},
     "output_type": "execute_result"
    }
   ],
   "source": [
    "y.shape"
   ]
  },
  {
   "cell_type": "code",
   "execution_count": 104,
   "metadata": {},
   "outputs": [
    {
     "data": {
      "text/html": [
       "<div>\n",
       "<style scoped>\n",
       "    .dataframe tbody tr th:only-of-type {\n",
       "        vertical-align: middle;\n",
       "    }\n",
       "\n",
       "    .dataframe tbody tr th {\n",
       "        vertical-align: top;\n",
       "    }\n",
       "\n",
       "    .dataframe thead th {\n",
       "        text-align: right;\n",
       "    }\n",
       "</style>\n",
       "<table border=\"1\" class=\"dataframe\">\n",
       "  <thead>\n",
       "    <tr style=\"text-align: right;\">\n",
       "      <th></th>\n",
       "      <th>id</th>\n",
       "      <th>title</th>\n",
       "      <th>author</th>\n",
       "      <th>text</th>\n",
       "    </tr>\n",
       "  </thead>\n",
       "  <tbody>\n",
       "    <tr>\n",
       "      <th>0</th>\n",
       "      <td>20800</td>\n",
       "      <td>Specter of Trump Loosens Tongues, if Not Purse...</td>\n",
       "      <td>David Streitfeld</td>\n",
       "      <td>PALO ALTO, Calif.  —   After years of scorning...</td>\n",
       "    </tr>\n",
       "    <tr>\n",
       "      <th>1</th>\n",
       "      <td>20801</td>\n",
       "      <td>Russian warships ready to strike terrorists ne...</td>\n",
       "      <td>NaN</td>\n",
       "      <td>Russian warships ready to strike terrorists ne...</td>\n",
       "    </tr>\n",
       "    <tr>\n",
       "      <th>2</th>\n",
       "      <td>20802</td>\n",
       "      <td>#NoDAPL: Native American Leaders Vow to Stay A...</td>\n",
       "      <td>Common Dreams</td>\n",
       "      <td>Videos #NoDAPL: Native American Leaders Vow to...</td>\n",
       "    </tr>\n",
       "    <tr>\n",
       "      <th>3</th>\n",
       "      <td>20803</td>\n",
       "      <td>Tim Tebow Will Attempt Another Comeback, This ...</td>\n",
       "      <td>Daniel Victor</td>\n",
       "      <td>If at first you don’t succeed, try a different...</td>\n",
       "    </tr>\n",
       "    <tr>\n",
       "      <th>4</th>\n",
       "      <td>20804</td>\n",
       "      <td>Keiser Report: Meme Wars (E995)</td>\n",
       "      <td>Truth Broadcast Network</td>\n",
       "      <td>42 mins ago 1 Views 0 Comments 0 Likes 'For th...</td>\n",
       "    </tr>\n",
       "  </tbody>\n",
       "</table>\n",
       "</div>"
      ],
      "text/plain": [
       "      id                                              title  \\\n",
       "0  20800  Specter of Trump Loosens Tongues, if Not Purse...   \n",
       "1  20801  Russian warships ready to strike terrorists ne...   \n",
       "2  20802  #NoDAPL: Native American Leaders Vow to Stay A...   \n",
       "3  20803  Tim Tebow Will Attempt Another Comeback, This ...   \n",
       "4  20804                    Keiser Report: Meme Wars (E995)   \n",
       "\n",
       "                    author                                               text  \n",
       "0         David Streitfeld  PALO ALTO, Calif.  —   After years of scorning...  \n",
       "1                      NaN  Russian warships ready to strike terrorists ne...  \n",
       "2            Common Dreams  Videos #NoDAPL: Native American Leaders Vow to...  \n",
       "3            Daniel Victor  If at first you don’t succeed, try a different...  \n",
       "4  Truth Broadcast Network  42 mins ago 1 Views 0 Comments 0 Likes 'For th...  "
      ]
     },
     "execution_count": 104,
     "metadata": {},
     "output_type": "execute_result"
    }
   ],
   "source": [
    "test_data=pd.read_csv('Data/test.csv')\n",
    "test_data.head()"
   ]
  },
  {
   "cell_type": "code",
   "execution_count": 105,
   "metadata": {},
   "outputs": [
    {
     "data": {
      "text/html": [
       "<div>\n",
       "<style scoped>\n",
       "    .dataframe tbody tr th:only-of-type {\n",
       "        vertical-align: middle;\n",
       "    }\n",
       "\n",
       "    .dataframe tbody tr th {\n",
       "        vertical-align: top;\n",
       "    }\n",
       "\n",
       "    .dataframe thead th {\n",
       "        text-align: right;\n",
       "    }\n",
       "</style>\n",
       "<table border=\"1\" class=\"dataframe\">\n",
       "  <thead>\n",
       "    <tr style=\"text-align: right;\">\n",
       "      <th></th>\n",
       "      <th>index</th>\n",
       "      <th>id</th>\n",
       "      <th>title</th>\n",
       "      <th>author</th>\n",
       "      <th>text</th>\n",
       "    </tr>\n",
       "  </thead>\n",
       "  <tbody>\n",
       "    <tr>\n",
       "      <th>0</th>\n",
       "      <td>0</td>\n",
       "      <td>0</td>\n",
       "      <td>House Dem Aide: We Didn’t Even See Comey’s Let...</td>\n",
       "      <td>Darrell Lucus</td>\n",
       "      <td>House Dem Aide: We Didn’t Even See Comey’s Let...</td>\n",
       "    </tr>\n",
       "    <tr>\n",
       "      <th>1</th>\n",
       "      <td>1</td>\n",
       "      <td>1</td>\n",
       "      <td>FLYNN: Hillary Clinton, Big Woman on Campus - ...</td>\n",
       "      <td>Daniel J. Flynn</td>\n",
       "      <td>Ever get the feeling your life circles the rou...</td>\n",
       "    </tr>\n",
       "    <tr>\n",
       "      <th>2</th>\n",
       "      <td>2</td>\n",
       "      <td>2</td>\n",
       "      <td>Why the Truth Might Get You Fired</td>\n",
       "      <td>Consortiumnews.com</td>\n",
       "      <td>Why the Truth Might Get You Fired October 29, ...</td>\n",
       "    </tr>\n",
       "    <tr>\n",
       "      <th>3</th>\n",
       "      <td>3</td>\n",
       "      <td>3</td>\n",
       "      <td>15 Civilians Killed In Single US Airstrike Hav...</td>\n",
       "      <td>Jessica Purkiss</td>\n",
       "      <td>Videos 15 Civilians Killed In Single US Airstr...</td>\n",
       "    </tr>\n",
       "    <tr>\n",
       "      <th>4</th>\n",
       "      <td>4</td>\n",
       "      <td>4</td>\n",
       "      <td>Iranian woman jailed for fictional unpublished...</td>\n",
       "      <td>Howard Portnoy</td>\n",
       "      <td>Print \\nAn Iranian woman has been sentenced to...</td>\n",
       "    </tr>\n",
       "  </tbody>\n",
       "</table>\n",
       "</div>"
      ],
      "text/plain": [
       "   index  id                                              title  \\\n",
       "0      0   0  House Dem Aide: We Didn’t Even See Comey’s Let...   \n",
       "1      1   1  FLYNN: Hillary Clinton, Big Woman on Campus - ...   \n",
       "2      2   2                  Why the Truth Might Get You Fired   \n",
       "3      3   3  15 Civilians Killed In Single US Airstrike Hav...   \n",
       "4      4   4  Iranian woman jailed for fictional unpublished...   \n",
       "\n",
       "               author                                               text  \n",
       "0       Darrell Lucus  House Dem Aide: We Didn’t Even See Comey’s Let...  \n",
       "1     Daniel J. Flynn  Ever get the feeling your life circles the rou...  \n",
       "2  Consortiumnews.com  Why the Truth Might Get You Fired October 29, ...  \n",
       "3     Jessica Purkiss  Videos 15 Civilians Killed In Single US Airstr...  \n",
       "4      Howard Portnoy  Print \\nAn Iranian woman has been sentenced to...  "
      ]
     },
     "execution_count": 105,
     "metadata": {},
     "output_type": "execute_result"
    }
   ],
   "source": [
    "messages=X.copy()\n",
    "messages.reset_index(inplace=True)\n",
    "messages.head()"
   ]
  },
  {
   "cell_type": "code",
   "execution_count": 106,
   "metadata": {},
   "outputs": [],
   "source": [
    "ps=WordNetLemmatizer()\n",
    "corpus_train=[]\n",
    "for i in range(len(messages)):\n",
    "    review= re.sub(r'[^a-zA-Z]', '',messages['title'][i])\n",
    "    review=review.lower()\n",
    "    review=review.split()\n",
    "    review=[ps.lemmatize(word) for word in review if word not in stopwords.words('english')]\n",
    "    review=' '.join(review)\n",
    "    corpus_train.append(review)"
   ]
  },
  {
   "cell_type": "code",
   "execution_count": 107,
   "metadata": {},
   "outputs": [
    {
     "data": {
      "text/plain": [
       "['housedemaidewedidntevenseecomeysletteruntiljasonchaffetztweetedit',\n",
       " 'flynnhillaryclintonbigwomanoncampusbreitbart',\n",
       " 'whythetruthmightgetyoufired',\n",
       " 'civilianskilledinsingleusairstrikehavebeenidentified',\n",
       " 'iranianwomanjailedforfictionalunpublishedstoryaboutwomanstonedtodeathforadultery',\n",
       " 'jackiemasonhollywoodwouldlovetrumpifhebombednorthkoreaoverlackoftransbathroomsexclusivevideobreitbart',\n",
       " 'benothamonwinsfrenchsocialistpartyspresidentialnominationthenewyorktimes',\n",
       " 'abackchannelplanforukraineandrussiacourtesyoftrumpassociatesthenewyorktimes',\n",
       " 'obamasorganizingforactionpartnerswithsoroslinkedindivisibletodisrupttrumpsagenda',\n",
       " 'bbccomedysketchrealhousewivesofisiscausesoutrage']"
      ]
     },
     "execution_count": 107,
     "metadata": {},
     "output_type": "execute_result"
    }
   ],
   "source": [
    "corpus_train[0:10]"
   ]
  },
  {
   "cell_type": "code",
   "execution_count": 108,
   "metadata": {},
   "outputs": [
    {
     "data": {
      "text/plain": [
       "[8895]"
      ]
     },
     "execution_count": 108,
     "metadata": {},
     "output_type": "execute_result"
    }
   ],
   "source": [
    "one_hot_rep=[one_hot(words,vocab_size) for words in corpus_train]\n",
    "one_hot_rep[0]"
   ]
  },
  {
   "cell_type": "code",
   "execution_count": 109,
   "metadata": {},
   "outputs": [
    {
     "data": {
      "text/plain": [
       "array([   0,    0,    0,    0,    0,    0,    0,    0,    0,    0,    0,\n",
       "          0,    0,    0,    0,    0,    0,    0,    0, 8895])"
      ]
     },
     "execution_count": 109,
     "metadata": {},
     "output_type": "execute_result"
    }
   ],
   "source": [
    "sent_length=20\n",
    "embedded_docs=pad_sequences(one_hot_rep,padding='pre',maxlen=sent_length)\n",
    "embedded_docs[0]"
   ]
  },
  {
   "cell_type": "code",
   "execution_count": null,
   "metadata": {},
   "outputs": [],
   "source": [
    "def lstm_model(vocab_size, embeded_features, input_length):\n",
    "    "
   ]
  },
  {
   "cell_type": "code",
   "execution_count": 110,
   "metadata": {},
   "outputs": [
    {
     "name": "stdout",
     "output_type": "stream",
     "text": [
      "Model: \"sequential_4\"\n",
      "_________________________________________________________________\n",
      "Layer (type)                 Output Shape              Param #   \n",
      "=================================================================\n",
      "embedding_4 (Embedding)      (None, 20, 40)            400000    \n",
      "_________________________________________________________________\n",
      "lstm_4 (LSTM)                (None, 100)               56400     \n",
      "_________________________________________________________________\n",
      "dense_4 (Dense)              (None, 1)                 101       \n",
      "=================================================================\n",
      "Total params: 456,501\n",
      "Trainable params: 456,501\n",
      "Non-trainable params: 0\n",
      "_________________________________________________________________\n"
     ]
    }
   ],
   "source": [
    "embedded_features=40\n",
    "lstm_model=Sequential()\n",
    "lstm_model.add(Embedding(vocab_size,embedded_features,input_length=sent_length))\n",
    "lstm_model.add(LSTM(100))\n",
    "lstm_model.add(Dense(1,activation='sigmoid'))\n",
    "lstm_model.summary()\n",
    "lstm_model.compile(loss='binary_crossentropy',optimizer='adam',metrics=['accuracy'])"
   ]
  },
  {
   "cell_type": "code",
   "execution_count": 111,
   "metadata": {},
   "outputs": [],
   "source": [
    "X_final=np.asarray(embedded_docs)\n",
    "y_final=np.asarray(y)"
   ]
  },
  {
   "cell_type": "code",
   "execution_count": 112,
   "metadata": {},
   "outputs": [
    {
     "name": "stdout",
     "output_type": "stream",
     "text": [
      "(13713, 20) (13713,)\n",
      "(4572, 20) (4572,)\n"
     ]
    }
   ],
   "source": [
    "X_train,X_test,y_train,y_test=train_test_split(X_final,y_final,random_state=42)\n",
    "print(X_train.shape,y_train.shape)\n",
    "print(X_test.shape,y_test.shape)"
   ]
  },
  {
   "cell_type": "code",
   "execution_count": 113,
   "metadata": {},
   "outputs": [
    {
     "name": "stdout",
     "output_type": "stream",
     "text": [
      "Train on 13713 samples, validate on 4572 samples\n",
      "Epoch 1/20\n",
      "13713/13713 [==============================] - 6s 452us/sample - loss: 0.6853 - accuracy: 0.5652 - val_loss: 0.6833 - val_accuracy: 0.5687\n",
      "Epoch 2/20\n",
      "13713/13713 [==============================] - 5s 361us/sample - loss: 0.5993 - accuracy: 0.6893 - val_loss: 0.7263 - val_accuracy: 0.5490\n",
      "Epoch 3/20\n",
      "13713/13713 [==============================] - 5s 397us/sample - loss: 0.4639 - accuracy: 0.7531 - val_loss: 0.8531 - val_accuracy: 0.5400\n",
      "Epoch 4/20\n",
      "13713/13713 [==============================] - 6s 403us/sample - loss: 0.4178 - accuracy: 0.7524 - val_loss: 0.9166 - val_accuracy: 0.5319\n",
      "Epoch 5/20\n",
      "13713/13713 [==============================] - 5s 361us/sample - loss: 0.3942 - accuracy: 0.7580 - val_loss: 0.9946 - val_accuracy: 0.5440\n",
      "Epoch 6/20\n",
      "13713/13713 [==============================] - 5s 378us/sample - loss: 0.3734 - accuracy: 0.7607 - val_loss: 1.0811 - val_accuracy: 0.5444\n",
      "Epoch 7/20\n",
      "13713/13713 [==============================] - 5s 365us/sample - loss: 0.3529 - accuracy: 0.7675 - val_loss: 1.3979 - val_accuracy: 0.5481\n",
      "Epoch 8/20\n",
      "13713/13713 [==============================] - 5s 359us/sample - loss: 0.3396 - accuracy: 0.7842 - val_loss: 1.4390 - val_accuracy: 0.5582\n",
      "Epoch 9/20\n",
      "13713/13713 [==============================] - 5s 347us/sample - loss: 0.3346 - accuracy: 0.7874 - val_loss: 1.4731 - val_accuracy: 0.4937\n",
      "Epoch 10/20\n",
      "13713/13713 [==============================] - 5s 365us/sample - loss: 0.3330 - accuracy: 0.7922 - val_loss: 1.5547 - val_accuracy: 0.5577\n",
      "Epoch 11/20\n",
      "13713/13713 [==============================] - 5s 364us/sample - loss: 0.3312 - accuracy: 0.7875 - val_loss: 1.5656 - val_accuracy: 0.5569\n",
      "Epoch 12/20\n",
      "13713/13713 [==============================] - 5s 349us/sample - loss: 0.3299 - accuracy: 0.7917 - val_loss: 1.6765 - val_accuracy: 0.5575\n",
      "Epoch 13/20\n",
      "13713/13713 [==============================] - 5s 353us/sample - loss: 0.3288 - accuracy: 0.7916 - val_loss: 1.6700 - val_accuracy: 0.5326\n",
      "Epoch 14/20\n",
      "13713/13713 [==============================] - 5s 354us/sample - loss: 0.3279 - accuracy: 0.7911 - val_loss: 1.9053 - val_accuracy: 0.5464\n",
      "Epoch 15/20\n",
      "13713/13713 [==============================] - 5s 355us/sample - loss: 0.3271 - accuracy: 0.7925 - val_loss: 1.7773 - val_accuracy: 0.5413\n",
      "Epoch 16/20\n",
      "13713/13713 [==============================] - 5s 352us/sample - loss: 0.3264 - accuracy: 0.7950 - val_loss: 1.8538 - val_accuracy: 0.5481\n",
      "Epoch 17/20\n",
      "13713/13713 [==============================] - 5s 356us/sample - loss: 0.3254 - accuracy: 0.7942 - val_loss: 1.8857 - val_accuracy: 0.5304\n",
      "Epoch 18/20\n",
      "13713/13713 [==============================] - 5s 351us/sample - loss: 0.3244 - accuracy: 0.7954 - val_loss: 1.9387 - val_accuracy: 0.5396\n",
      "Epoch 19/20\n",
      "13713/13713 [==============================] - 5s 357us/sample - loss: 0.3233 - accuracy: 0.7967 - val_loss: 1.9215 - val_accuracy: 0.4954\n",
      "Epoch 20/20\n",
      "13713/13713 [==============================] - 5s 360us/sample - loss: 0.3232 - accuracy: 0.7953 - val_loss: 2.0287 - val_accuracy: 0.5483\n"
     ]
    }
   ],
   "source": [
    "train_model=lstm_model.fit(X_train,y_train,validation_data=(X_test,y_test),epochs=20)"
   ]
  },
  {
   "cell_type": "code",
   "execution_count": 114,
   "metadata": {},
   "outputs": [
    {
     "data": {
      "text/plain": [
       "<matplotlib.legend.Legend at 0x1bafe917848>"
      ]
     },
     "execution_count": 114,
     "metadata": {},
     "output_type": "execute_result"
    },
    {
     "data": {
      "image/png": "[encoded data removed]",
      "text/plain": [
       "<Figure size 432x288 with 1 Axes>"
      ]
     },
     "metadata": {
      "needs_background": "light"
     },
     "output_type": "display_data"
    }
   ],
   "source": [
    "plt.plot(train_model.history['accuracy'],'b',label='train_accuracy')\n",
    "plt.plot(train_model.history['val_accuracy'],'r',label='val_accuracy')\n",
    "plt.legend()"
   ]
  },
  {
   "cell_type": "code",
   "execution_count": 123,
   "metadata": {},
   "outputs": [],
   "source": [
    "# natural language processing model hyperparameters\n",
    "vocab_size = 10000  # number of unique words to use in tokenization\n",
    "embedding_dim = 16  # dimension of neural network embedding for a word\n",
    "max_length = 20    # number of words to be retained in each document"
   ]
  },
  {
   "cell_type": "code",
   "execution_count": 140,
   "metadata": {},
   "outputs": [],
   "source": [
    "max_epochs = 100  \n",
    "earlystop_callback = \\\n",
    "    tf.keras.callbacks.EarlyStopping(monitor='val_accuracy',\\\n",
    "    min_delta=0.01, patience=5, verbose=0, mode='auto',\\\n",
    "    baseline=None, restore_best_weights=False)"
   ]
  },
  {
   "cell_type": "code",
   "execution_count": 178,
   "metadata": {},
   "outputs": [],
   "source": [
    "# define model structure with key hyperparameters for multi-class model\n",
    "def Conv1D_model(vocab_size, embedding_dim, max_length, nclasses):\n",
    "    # define the structure of the model\n",
    "    model = Sequential()\n",
    "    model.add(Embedding(vocab_size, embedding_dim, input_length = max_length))\n",
    "    model.add(Conv1D(filters = 32, kernel_size = 8, activation = 'relu'))\n",
    "    model.add(GlobalMaxPooling1D())\n",
    "    model.add(Dense(1, activation = 'relu'))\n",
    "    model.add(Dense(nclasses, activation = 'sigmoid'))\n",
    "    # define the optimization method for the \n",
    "    # using sparse_categorical_crossentropy because category labels are integers\n",
    "    model.compile(loss = 'sparse_categorical_crossentropy',optimizer='adam',metrics=['accuracy'])\n",
    "    print('\\nStructure of Neural Network')\n",
    "    model.summary()\n",
    "    # uncomment the following plot_model line if you have Graphviz installed\n",
    "    # plot_model(model, to_file = 'fig-model-structure.png', dpi = 128, show_shapes = True, show_layer_names = True)\n",
    "    # show settings of hyperparameters and algorithms for training\n",
    "    print('\\nSettings for Training the Neural Network')\n",
    "    #print(json.dumps(model.get_config(), indent = 2, sort_keys = True))\n",
    "    return model    "
   ]
  },
  {
   "cell_type": "code",
   "execution_count": 179,
   "metadata": {},
   "outputs": [
    {
     "name": "stdout",
     "output_type": "stream",
     "text": [
      "\n",
      "Structure of Neural Network\n",
      "Model: \"sequential_18\"\n",
      "_________________________________________________________________\n",
      "Layer (type)                 Output Shape              Param #   \n",
      "=================================================================\n",
      "embedding_18 (Embedding)     (None, 20, 40)            400000    \n",
      "_________________________________________________________________\n",
      "conv1d_13 (Conv1D)           (None, 13, 32)            10272     \n",
      "_________________________________________________________________\n",
      "global_max_pooling1d_13 (Glo (None, 32)                0         \n",
      "_________________________________________________________________\n",
      "dense_26 (Dense)             (None, 1)                 33        \n",
      "_________________________________________________________________\n",
      "dense_27 (Dense)             (None, 2)                 4         \n",
      "=================================================================\n",
      "Total params: 410,309\n",
      "Trainable params: 410,309\n",
      "Non-trainable params: 0\n",
      "_________________________________________________________________\n",
      "\n",
      "Settings for Training the Neural Network\n"
     ]
    }
   ],
   "source": [
    "Conv1Dmodel = Conv1D_model(vocab_size, embedded_features, sent_length, 2)"
   ]
  },
  {
   "cell_type": "code",
   "execution_count": 235,
   "metadata": {},
   "outputs": [
    {
     "name": "stdout",
     "output_type": "stream",
     "text": [
      "\n",
      "Epoch-by-Epoch Training Process\n",
      "Train on 13713 samples, validate on 4572 samples\n",
      "Epoch 1/100\n",
      "13713/13713 - 2s - loss: 0.6330 - accuracy: 0.5660 - val_loss: 0.7013 - val_accuracy: 0.5687\n",
      "Epoch 2/100\n",
      "13713/13713 - 2s - loss: 0.6254 - accuracy: 0.5660 - val_loss: 0.7048 - val_accuracy: 0.5687\n",
      "Epoch 3/100\n",
      "13713/13713 - 2s - loss: 0.6124 - accuracy: 0.5660 - val_loss: 0.7139 - val_accuracy: 0.5687\n",
      "Epoch 4/100\n",
      "13713/13713 - 2s - loss: 0.6010 - accuracy: 0.5660 - val_loss: 0.7159 - val_accuracy: 0.5687\n",
      "Epoch 5/100\n",
      "13713/13713 - 2s - loss: 0.5986 - accuracy: 0.5660 - val_loss: 0.7159 - val_accuracy: 0.5687\n",
      "Epoch 6/100\n",
      "13713/13713 - 2s - loss: 0.5947 - accuracy: 0.5660 - val_loss: 0.7322 - val_accuracy: 0.5687\n",
      "\n",
      "Time of execution for training (seconds):     14.347\n"
     ]
    }
   ],
   "source": [
    "print('\\nEpoch-by-Epoch Training Process')\n",
    "begin_time = time()\n",
    "history = Conv1Dmodel.fit(X_train,y_train,\n",
    "    epochs = max_epochs, shuffle = False,\n",
    "    validation_data = (X_test,y_test), \n",
    "    verbose = 2,\n",
    "    callbacks = [earlystop_callback])\n",
    "execution_time = time() - begin_time\n",
    "print('\\nTime of execution for training (seconds):', \\\n",
    "\t'{:10.3f}'.format(np.round(execution_time, decimals = 3)))\n"
   ]
  },
  {
   "cell_type": "code",
   "execution_count": 236,
   "metadata": {},
   "outputs": [
    {
     "name": "stdout",
     "output_type": "stream",
     "text": [
      "\n",
      "Full training set accuracy: 0.5660 \n",
      "\n"
     ]
    }
   ],
   "source": [
    "# evaluate fitted model on the full training set\n",
    "train_loss, train_acc = Conv1Dmodel.evaluate(X_train,y_train,verbose = 3)\n",
    "print('\\nFull training set accuracy:', \\\n",
    "\t'{:6.4f}'.format(np.round(train_acc, decimals = 4)), '\\n')"
   ]
  },
  {
   "cell_type": "code",
   "execution_count": 237,
   "metadata": {},
   "outputs": [
    {
     "name": "stdout",
     "output_type": "stream",
     "text": [
      "Hold-out test set accuracy: 0.5687\n"
     ]
    }
   ],
   "source": [
    "# evaluate the fitted model on the hold-out test set\n",
    "test_loss, test_acc = Conv1Dmodel.evaluate(X_test,  y_test, verbose = 3)\n",
    "print('Hold-out test set accuracy:', \\\n",
    "\t'{:6.4f}'.format(np.round(test_acc, decimals = 4)))"
   ]
  },
  {
   "cell_type": "code",
   "execution_count": 238,
   "metadata": {},
   "outputs": [],
   "source": [
    "# The training process may be evaluated by comparing training and\n",
    "# dev (validation) set performance. We use \"dev\" to indicate\n",
    "# that these data are used in evaluating various hyperparameter\n",
    "# settings. We do not test alternative hyperparameters here,\n",
    "# but in other programs there will be much hyperparameter testing.\n",
    "def plot_history(history):\n",
    "    acc = history.history['accuracy']\n",
    "    val_acc = history.history['val_accuracy']\n",
    "    loss = history.history['loss']\n",
    "    val_loss = history.history['val_loss']\n",
    "    epoch_number = range(1, len(acc) + 1)\n",
    "    plt.style.use('ggplot') # Grammar of Graphics plots\n",
    "    plt.figure(figsize=(20, 10))\n",
    "    plt.subplot(1, 2, 1)\n",
    "    plt.plot(epoch_number, acc, 'b', label='Training')\n",
    "    plt.plot(epoch_number, val_acc, 'r', label='Dev')\n",
    "    plt.title('Training and Dev Set Accuracy')\n",
    "    plt.xlabel('Epoch Number')\n",
    "    plt.ylabel('Accuracy')\n",
    "    plt.legend()\n",
    "    plt.subplot(1, 2, 2)\n",
    "    plt.plot(epoch_number, loss, 'b', label='Training')\n",
    "    plt.plot(epoch_number, val_loss, 'r', label='Dev')\n",
    "    plt.title('Training and Dev Set Loss')\n",
    "    plt.xlabel('Epoch Number')\n",
    "    plt.ylabel('Loss')\n",
    "    plt.legend()\n",
    "    #plt.savefig('fig-training-process.pdf', \n",
    "    #    papertype = 'letter', orientation ='landscape')\n",
    "    plt.show()\n"
   ]
  },
  {
   "cell_type": "code",
   "execution_count": 284,
   "metadata": {},
   "outputs": [
    {
     "data": {
      "image/png": "[encoded data removed]",
      "text/plain": [
       "<Figure size 1440x720 with 2 Axes>"
      ]
     },
     "metadata": {},
     "output_type": "display_data"
    }
   ],
   "source": [
    "# show training process in external visualizations\n",
    "plot_history(history) "
   ]
  },
  {
   "cell_type": "code",
   "execution_count": 240,
   "metadata": {},
   "outputs": [],
   "source": [
    "# examine the predicted values within a precision/recall framework\n",
    "test_preds = np.argmax(model.predict(X_test), axis = 1)"
   ]
  },
  {
   "cell_type": "code",
   "execution_count": 249,
   "metadata": {},
   "outputs": [],
   "source": [
    "def test(X):\n",
    "    X=X.fillna(0)\n",
    "    messages=X.copy()\n",
    "    messages.reset_index(inplace=True)\n",
    "    corpus=[]\n",
    "    for i in range(len(messages)):\n",
    "        reviews=re.sub('[^a-zA-Z]',' ',str(messages['title'][i]))\n",
    "        reviews=reviews.lower()\n",
    "        reviews=reviews.split()\n",
    "        reviews=[ps.lemmatize(word) for word in reviews if word not in stopwords.words('english')]\n",
    "        reviews=' '.join(reviews)\n",
    "        corpus.append(reviews)\n",
    "    one_hot_rep=[one_hot(word,vocab_size)for word in corpus]\n",
    "    embedded_docs = pad_sequences(one_hot_rep, padding = 'pre', maxlen = sent_length)\n",
    "    X_final = np.array(embedded_docs)\n",
    "    \n",
    "    \n",
    "    return X_final"
   ]
  },
  {
   "cell_type": "code",
   "execution_count": 295,
   "metadata": {},
   "outputs": [
    {
     "data": {
      "text/plain": [
       "array([   0,    0,    0,    0,    0,    0,    0,    0,    0, 1531, 2236,\n",
       "       7363, 1253, 4405, 7244, 1214, 3732, 3883, 2340, 7848])"
      ]
     },
     "execution_count": 295,
     "metadata": {},
     "output_type": "execute_result"
    }
   ],
   "source": [
    "test_data_new= test(test_data)\n",
    "test_data_new[0]"
   ]
  },
  {
   "cell_type": "code",
   "execution_count": 305,
   "metadata": {},
   "outputs": [
    {
     "data": {
      "text/plain": [
       "(5200, 4)"
      ]
     },
     "execution_count": 305,
     "metadata": {},
     "output_type": "execute_result"
    }
   ],
   "source": [
    "test_data.shape"
   ]
  },
  {
   "cell_type": "code",
   "execution_count": 310,
   "metadata": {},
   "outputs": [],
   "source": [
    "lstm_prediction = lstm_model.predict_classes(test_data_new)"
   ]
  },
  {
   "cell_type": "code",
   "execution_count": 316,
   "metadata": {},
   "outputs": [
    {
     "data": {
      "text/plain": [
       "(5200, 2)"
      ]
     },
     "execution_count": 316,
     "metadata": {},
     "output_type": "execute_result"
    }
   ],
   "source": [
    "submission = pd.DataFrame({'id':test_data.id, 'label':lstm_prediction})\n",
    "submission.shape"
   ]
  },
  {
   "cell_type": "code",
   "execution_count": 318,
   "metadata": {},
   "outputs": [
    {
     "data": {
      "text/html": [
       "<div>\n",
       "<style scoped>\n",
       "    .dataframe tbody tr th:only-of-type {\n",
       "        vertical-align: middle;\n",
       "    }\n",
       "\n",
       "    .dataframe tbody tr th {\n",
       "        vertical-align: top;\n",
       "    }\n",
       "\n",
       "    .dataframe thead th {\n",
       "        text-align: right;\n",
       "    }\n",
       "</style>\n",
       "<table border=\"1\" class=\"dataframe\">\n",
       "  <thead>\n",
       "    <tr style=\"text-align: right;\">\n",
       "      <th></th>\n",
       "      <th>id</th>\n",
       "      <th>label</th>\n",
       "    </tr>\n",
       "  </thead>\n",
       "  <tbody>\n",
       "    <tr>\n",
       "      <th>0</th>\n",
       "      <td>20800</td>\n",
       "      <td>1</td>\n",
       "    </tr>\n",
       "    <tr>\n",
       "      <th>1</th>\n",
       "      <td>20801</td>\n",
       "      <td>0</td>\n",
       "    </tr>\n",
       "    <tr>\n",
       "      <th>2</th>\n",
       "      <td>20802</td>\n",
       "      <td>0</td>\n",
       "    </tr>\n",
       "    <tr>\n",
       "      <th>3</th>\n",
       "      <td>20803</td>\n",
       "      <td>1</td>\n",
       "    </tr>\n",
       "    <tr>\n",
       "      <th>4</th>\n",
       "      <td>20804</td>\n",
       "      <td>1</td>\n",
       "    </tr>\n",
       "    <tr>\n",
       "      <th>...</th>\n",
       "      <td>...</td>\n",
       "      <td>...</td>\n",
       "    </tr>\n",
       "    <tr>\n",
       "      <th>5195</th>\n",
       "      <td>25995</td>\n",
       "      <td>1</td>\n",
       "    </tr>\n",
       "    <tr>\n",
       "      <th>5196</th>\n",
       "      <td>25996</td>\n",
       "      <td>1</td>\n",
       "    </tr>\n",
       "    <tr>\n",
       "      <th>5197</th>\n",
       "      <td>25997</td>\n",
       "      <td>1</td>\n",
       "    </tr>\n",
       "    <tr>\n",
       "      <th>5198</th>\n",
       "      <td>25998</td>\n",
       "      <td>0</td>\n",
       "    </tr>\n",
       "    <tr>\n",
       "      <th>5199</th>\n",
       "      <td>25999</td>\n",
       "      <td>0</td>\n",
       "    </tr>\n",
       "  </tbody>\n",
       "</table>\n",
       "<p>5200 rows × 2 columns</p>\n",
       "</div>"
      ],
      "text/plain": [
       "         id  label\n",
       "0     20800      1\n",
       "1     20801      0\n",
       "2     20802      0\n",
       "3     20803      1\n",
       "4     20804      1\n",
       "...     ...    ...\n",
       "5195  25995      1\n",
       "5196  25996      1\n",
       "5197  25997      1\n",
       "5198  25998      0\n",
       "5199  25999      0\n",
       "\n",
       "[5200 rows x 2 columns]"
      ]
     },
     "execution_count": 318,
     "metadata": {},
     "output_type": "execute_result"
    }
   ],
   "source": [
    "submission"
   ]
  },
  {
   "cell_type": "code",
   "execution_count": 328,
   "metadata": {},
   "outputs": [],
   "source": [
    "gru_prediction = gru_model.predict_classes(test_data_new)"
   ]
  },
  {
   "cell_type": "code",
   "execution_count": 329,
   "metadata": {},
   "outputs": [
    {
     "data": {
      "text/plain": [
       "(5200, 2)"
      ]
     },
     "execution_count": 329,
     "metadata": {},
     "output_type": "execute_result"
    }
   ],
   "source": [
    "submission2 = pd.DataFrame({'id':test_data.id, 'label':gru_prediction})\n",
    "submission2.shape"
   ]
  },
  {
   "cell_type": "code",
   "execution_count": 330,
   "metadata": {},
   "outputs": [
    {
     "data": {
      "text/plain": [
       "0    4143\n",
       "1    1057\n",
       "Name: label, dtype: int64"
      ]
     },
     "execution_count": 330,
     "metadata": {},
     "output_type": "execute_result"
    }
   ],
   "source": [
    "submission2['label'].value_counts()"
   ]
  },
  {
   "cell_type": "code",
   "execution_count": 304,
   "metadata": {},
   "outputs": [
    {
     "data": {
      "text/plain": [
       "(5200, 2)"
      ]
     },
     "execution_count": 304,
     "metadata": {},
     "output_type": "execute_result"
    }
   ],
   "source": [
    "pred2=Conv1Dmodel.predict(test_data_new)\n",
    "pred2.shape"
   ]
  },
  {
   "cell_type": "code",
   "execution_count": 258,
   "metadata": {},
   "outputs": [],
   "source": [
    "#submission_data['LSTM_label'] = np.round(pred2).astype('int')"
   ]
  },
  {
   "cell_type": "code",
   "execution_count": 260,
   "metadata": {},
   "outputs": [],
   "source": [
    "#submission_data['LSTM_label'].value_counts()"
   ]
  },
  {
   "cell_type": "code",
   "execution_count": 261,
   "metadata": {},
   "outputs": [
    {
     "data": {
      "text/html": [
       "<div>\n",
       "<style scoped>\n",
       "    .dataframe tbody tr th:only-of-type {\n",
       "        vertical-align: middle;\n",
       "    }\n",
       "\n",
       "    .dataframe tbody tr th {\n",
       "        vertical-align: top;\n",
       "    }\n",
       "\n",
       "    .dataframe thead th {\n",
       "        text-align: right;\n",
       "    }\n",
       "</style>\n",
       "<table border=\"1\" class=\"dataframe\">\n",
       "  <thead>\n",
       "    <tr style=\"text-align: right;\">\n",
       "      <th></th>\n",
       "      <th>id</th>\n",
       "      <th>label</th>\n",
       "    </tr>\n",
       "  </thead>\n",
       "  <tbody>\n",
       "    <tr>\n",
       "      <th>0</th>\n",
       "      <td>20800</td>\n",
       "      <td>0</td>\n",
       "    </tr>\n",
       "    <tr>\n",
       "      <th>1</th>\n",
       "      <td>20801</td>\n",
       "      <td>0</td>\n",
       "    </tr>\n",
       "    <tr>\n",
       "      <th>2</th>\n",
       "      <td>20802</td>\n",
       "      <td>1</td>\n",
       "    </tr>\n",
       "    <tr>\n",
       "      <th>3</th>\n",
       "      <td>20803</td>\n",
       "      <td>0</td>\n",
       "    </tr>\n",
       "    <tr>\n",
       "      <th>4</th>\n",
       "      <td>20804</td>\n",
       "      <td>0</td>\n",
       "    </tr>\n",
       "    <tr>\n",
       "      <th>...</th>\n",
       "      <td>...</td>\n",
       "      <td>...</td>\n",
       "    </tr>\n",
       "    <tr>\n",
       "      <th>5195</th>\n",
       "      <td>25995</td>\n",
       "      <td>0</td>\n",
       "    </tr>\n",
       "    <tr>\n",
       "      <th>5196</th>\n",
       "      <td>25996</td>\n",
       "      <td>0</td>\n",
       "    </tr>\n",
       "    <tr>\n",
       "      <th>5197</th>\n",
       "      <td>25997</td>\n",
       "      <td>0</td>\n",
       "    </tr>\n",
       "    <tr>\n",
       "      <th>5198</th>\n",
       "      <td>25998</td>\n",
       "      <td>1</td>\n",
       "    </tr>\n",
       "    <tr>\n",
       "      <th>5199</th>\n",
       "      <td>25999</td>\n",
       "      <td>0</td>\n",
       "    </tr>\n",
       "  </tbody>\n",
       "</table>\n",
       "<p>5200 rows × 2 columns</p>\n",
       "</div>"
      ],
      "text/plain": [
       "         id  label\n",
       "0     20800      0\n",
       "1     20801      0\n",
       "2     20802      1\n",
       "3     20803      0\n",
       "4     20804      0\n",
       "...     ...    ...\n",
       "5195  25995      0\n",
       "5196  25996      0\n",
       "5197  25997      0\n",
       "5198  25998      1\n",
       "5199  25999      0\n",
       "\n",
       "[5200 rows x 2 columns]"
      ]
     },
     "execution_count": 261,
     "metadata": {},
     "output_type": "execute_result"
    }
   ],
   "source": [
    "submission_data"
   ]
  },
  {
   "cell_type": "code",
   "execution_count": 276,
   "metadata": {},
   "outputs": [
    {
     "name": "stdout",
     "output_type": "stream",
     "text": [
      "Model: \"lstm_nn_model\"\n",
      "_________________________________________________________________\n",
      "Layer (type)                 Output Shape              Param #   \n",
      "=================================================================\n",
      "1st_layer (Embedding)        (None, 20, 16)            160000    \n",
      "_________________________________________________________________\n",
      "2nd_layer (LSTM)             (None, 120)               65760     \n",
      "_________________________________________________________________\n",
      "3rd_layer (Dropout)          (None, 120)               0         \n",
      "_________________________________________________________________\n",
      "4th_layer (Dense)            (None, 120)               14520     \n",
      "_________________________________________________________________\n",
      "5th_layer (Dropout)          (None, 120)               0         \n",
      "_________________________________________________________________\n",
      "output_layer (Dense)         (None, 2)                 242       \n",
      "=================================================================\n",
      "Total params: 240,522\n",
      "Trainable params: 240,522\n",
      "Non-trainable params: 0\n",
      "_________________________________________________________________\n"
     ]
    }
   ],
   "source": [
    "from tensorflow.keras.layers import Dense, Dropout, Embedding, GRU, LSTM, RNN, SpatialDropout1D\n",
    "max_features = 4500\n",
    "# LSTM Neural Network\n",
    "lstm_model = Sequential(name = 'lstm_nn_model')\n",
    "lstm_model.add(layer = Embedding(vocab_size, embedding_dim, input_length = max_length, name = '1st_layer'))\n",
    "lstm_model.add(layer = LSTM(units = 120, dropout = 0.2, recurrent_dropout = 0.2, name = '2nd_layer'))\n",
    "lstm_model.add(layer = Dropout(rate = 0.5, name = '3rd_layer'))\n",
    "lstm_model.add(layer = Dense(units = 120,  activation = 'relu', name = '4th_layer'))\n",
    "lstm_model.add(layer = Dropout(rate = 0.5, name = '5th_layer'))\n",
    "lstm_model.add(layer = Dense(units = len(set(y)),  activation = 'sigmoid', name = 'output_layer'))\n",
    "# compiling the model\n",
    "lstm_model.compile(optimizer = 'adam', loss = 'sparse_categorical_crossentropy', metrics = ['accuracy'])\n",
    "lstm_model.summary()"
   ]
  },
  {
   "cell_type": "code",
   "execution_count": 277,
   "metadata": {},
   "outputs": [
    {
     "name": "stdout",
     "output_type": "stream",
     "text": [
      "Train on 13713 samples, validate on 4572 samples\n",
      "Epoch 1/100\n",
      "13713/13713 - 8s - loss: 0.6858 - accuracy: 0.5650 - val_loss: 0.6843 - val_accuracy: 0.5687\n",
      "Epoch 2/100\n",
      "13713/13713 - 6s - loss: 0.6771 - accuracy: 0.5761 - val_loss: 0.6955 - val_accuracy: 0.5265\n",
      "Epoch 3/100\n",
      "13713/13713 - 6s - loss: 0.5471 - accuracy: 0.7289 - val_loss: 0.8318 - val_accuracy: 0.5363\n",
      "Epoch 4/100\n",
      "13713/13713 - 6s - loss: 0.4566 - accuracy: 0.7731 - val_loss: 0.9522 - val_accuracy: 0.5343\n",
      "Epoch 5/100\n",
      "13713/13713 - 6s - loss: 0.4066 - accuracy: 0.7804 - val_loss: 1.1307 - val_accuracy: 0.5564\n",
      "Epoch 6/100\n",
      "13713/13713 - 6s - loss: 0.3716 - accuracy: 0.7897 - val_loss: 1.2624 - val_accuracy: 0.5584\n"
     ]
    }
   ],
   "source": [
    "lstm_model_fit = lstm_model.fit(X_train,y_train,\n",
    "    epochs = max_epochs, shuffle = False,\n",
    "    validation_data = (X_test,y_test), \n",
    "    verbose = 2,\n",
    "    callbacks = [earlystop_callback])"
   ]
  },
  {
   "cell_type": "code",
   "execution_count": 278,
   "metadata": {},
   "outputs": [
    {
     "name": "stdout",
     "output_type": "stream",
     "text": [
      "\n",
      "Full training set accuracy: 0.7992 \n",
      "\n"
     ]
    }
   ],
   "source": [
    "# evaluate fitted model on the full training set\n",
    "lstm_train_loss, lstm_train_acc = lstm_model.evaluate(X_train,y_train,verbose = 3)\n",
    "print('\\nFull training set accuracy:', \\\n",
    "\t'{:6.4f}'.format(np.round(lstm_train_acc, decimals = 4)), '\\n')"
   ]
  },
  {
   "cell_type": "code",
   "execution_count": 279,
   "metadata": {},
   "outputs": [
    {
     "name": "stdout",
     "output_type": "stream",
     "text": [
      "Hold-out test set accuracy: 0.5584\n"
     ]
    }
   ],
   "source": [
    "# evaluate the fitted model on the hold-out test set\n",
    "lstm_test_loss, lstm_test_acc = lstm_model.evaluate(X_test,  y_test, verbose = 3)\n",
    "print('Hold-out test set accuracy:', \\\n",
    "\t'{:6.4f}'.format(np.round(lstm_test_acc, decimals = 4)))"
   ]
  },
  {
   "cell_type": "markdown",
   "metadata": {},
   "source": [
    "<h3>GRU neural Network</h3>"
   ]
  },
  {
   "cell_type": "code",
   "execution_count": 280,
   "metadata": {},
   "outputs": [
    {
     "name": "stdout",
     "output_type": "stream",
     "text": [
      "Model: \"gru_nn_model\"\n",
      "_________________________________________________________________\n",
      "Layer (type)                 Output Shape              Param #   \n",
      "=================================================================\n",
      "1st_layer (Embedding)        (None, 20, 16)            160000    \n",
      "_________________________________________________________________\n",
      "2nd_layer (GRU)              (None, 100)               35400     \n",
      "_________________________________________________________________\n",
      "3rd_layer (Dropout)          (None, 100)               0         \n",
      "_________________________________________________________________\n",
      "4th_layer (Dense)            (None, 120)               12120     \n",
      "_________________________________________________________________\n",
      "5th_layer (Dropout)          (None, 120)               0         \n",
      "_________________________________________________________________\n",
      "output_layer (Dense)         (None, 2)                 242       \n",
      "=================================================================\n",
      "Total params: 207,762\n",
      "Trainable params: 207,762\n",
      "Non-trainable params: 0\n",
      "_________________________________________________________________\n"
     ]
    }
   ],
   "source": [
    "# GRU neural Network\n",
    "gru_model = Sequential(name = 'gru_nn_model')\n",
    "gru_model.add(layer = Embedding(vocab_size, embedding_dim, input_length = max_length, name = '1st_layer'))\n",
    "gru_model.add(layer = GRU(units = 100, dropout = 0.2, \n",
    "                          recurrent_dropout = 0.2, recurrent_activation = 'relu', \n",
    "                          activation = 'relu', name = '2nd_layer'))\n",
    "gru_model.add(layer = Dropout(rate = 0.4, name = '3rd_layer'))\n",
    "gru_model.add(layer = Dense(units = 120, activation = 'relu', name = '4th_layer'))\n",
    "gru_model.add(layer = Dropout(rate = 0.2, name = '5th_layer'))\n",
    "gru_model.add(layer = Dense(units = len(set(y)), activation = 'softmax', name = 'output_layer'))\n",
    "# compiling the model\n",
    "gru_model.compile(optimizer = 'adam', loss = 'sparse_categorical_crossentropy', metrics = ['accuracy'])\n",
    "gru_model.summary()"
   ]
  },
  {
   "cell_type": "code",
   "execution_count": 331,
   "metadata": {},
   "outputs": [
    {
     "name": "stdout",
     "output_type": "stream",
     "text": [
      "Train on 13713 samples, validate on 4572 samples\n",
      "Epoch 1/100\n",
      "13713/13713 - 5s - loss: nan - accuracy: 0.5929 - val_loss: nan - val_accuracy: 0.5687\n",
      "Epoch 2/100\n",
      "13713/13713 - 5s - loss: nan - accuracy: 0.5660 - val_loss: nan - val_accuracy: 0.5687\n",
      "Epoch 3/100\n",
      "13713/13713 - 5s - loss: nan - accuracy: 0.5660 - val_loss: nan - val_accuracy: 0.5687\n",
      "Epoch 4/100\n",
      "13713/13713 - 5s - loss: nan - accuracy: 0.5660 - val_loss: nan - val_accuracy: 0.5687\n",
      "Epoch 5/100\n",
      "13713/13713 - 5s - loss: nan - accuracy: 0.5660 - val_loss: nan - val_accuracy: 0.5687\n",
      "Epoch 6/100\n",
      "13713/13713 - 5s - loss: nan - accuracy: 0.5660 - val_loss: nan - val_accuracy: 0.5687\n",
      "Epoch 7/100\n",
      "13713/13713 - 5s - loss: nan - accuracy: 0.5660 - val_loss: nan - val_accuracy: 0.5687\n",
      "Epoch 8/100\n",
      "13713/13713 - 5s - loss: nan - accuracy: 0.5660 - val_loss: nan - val_accuracy: 0.5687\n",
      "Epoch 9/100\n",
      "13713/13713 - 5s - loss: nan - accuracy: 0.5660 - val_loss: nan - val_accuracy: 0.5687\n",
      "Epoch 10/100\n",
      "13713/13713 - 5s - loss: nan - accuracy: 0.5660 - val_loss: nan - val_accuracy: 0.5687\n",
      "Epoch 11/100\n",
      "13713/13713 - 5s - loss: nan - accuracy: 0.5660 - val_loss: nan - val_accuracy: 0.5687\n",
      "Epoch 12/100\n",
      "13713/13713 - 5s - loss: nan - accuracy: 0.5660 - val_loss: nan - val_accuracy: 0.5687\n",
      "Epoch 13/100\n",
      "13713/13713 - 5s - loss: nan - accuracy: 0.5660 - val_loss: nan - val_accuracy: 0.5687\n",
      "Epoch 14/100\n",
      "13713/13713 - 5s - loss: nan - accuracy: 0.5660 - val_loss: nan - val_accuracy: 0.5687\n",
      "Epoch 15/100\n",
      "13713/13713 - 5s - loss: nan - accuracy: 0.5660 - val_loss: nan - val_accuracy: 0.5687\n",
      "Epoch 16/100\n",
      "13713/13713 - 5s - loss: nan - accuracy: 0.5660 - val_loss: nan - val_accuracy: 0.5687\n",
      "Epoch 17/100\n",
      "13713/13713 - 6s - loss: nan - accuracy: 0.5660 - val_loss: nan - val_accuracy: 0.5687\n",
      "Epoch 18/100\n",
      "13713/13713 - 6s - loss: nan - accuracy: 0.5660 - val_loss: nan - val_accuracy: 0.5687\n",
      "Epoch 19/100\n",
      "13713/13713 - 5s - loss: nan - accuracy: 0.5660 - val_loss: nan - val_accuracy: 0.5687\n",
      "Epoch 20/100\n",
      "13713/13713 - 5s - loss: nan - accuracy: 0.5660 - val_loss: nan - val_accuracy: 0.5687\n",
      "Epoch 21/100\n",
      "13713/13713 - 5s - loss: nan - accuracy: 0.5660 - val_loss: nan - val_accuracy: 0.5687\n",
      "Epoch 22/100\n",
      "13713/13713 - 5s - loss: nan - accuracy: 0.5660 - val_loss: nan - val_accuracy: 0.5687\n",
      "Epoch 23/100\n",
      "13713/13713 - 5s - loss: nan - accuracy: 0.5660 - val_loss: nan - val_accuracy: 0.5687\n",
      "Epoch 24/100\n",
      "13713/13713 - 6s - loss: nan - accuracy: 0.5660 - val_loss: nan - val_accuracy: 0.5687\n",
      "Epoch 25/100\n",
      "13713/13713 - 6s - loss: nan - accuracy: 0.5660 - val_loss: nan - val_accuracy: 0.5687\n",
      "Epoch 26/100\n",
      "13713/13713 - 5s - loss: nan - accuracy: 0.5660 - val_loss: nan - val_accuracy: 0.5687\n",
      "Epoch 27/100\n",
      "13713/13713 - 6s - loss: nan - accuracy: 0.5660 - val_loss: nan - val_accuracy: 0.5687\n",
      "Epoch 28/100\n",
      "13713/13713 - 7s - loss: nan - accuracy: 0.5660 - val_loss: nan - val_accuracy: 0.5687\n",
      "Epoch 29/100\n",
      "13713/13713 - 7s - loss: nan - accuracy: 0.5660 - val_loss: nan - val_accuracy: 0.5687\n",
      "Epoch 30/100\n",
      "13713/13713 - 7s - loss: nan - accuracy: 0.5660 - val_loss: nan - val_accuracy: 0.5687\n",
      "Epoch 31/100\n",
      "13713/13713 - 6s - loss: nan - accuracy: 0.5660 - val_loss: nan - val_accuracy: 0.5687\n",
      "Epoch 32/100\n",
      "13713/13713 - 6s - loss: nan - accuracy: 0.5660 - val_loss: nan - val_accuracy: 0.5687\n",
      "Epoch 33/100\n",
      "13713/13713 - 6s - loss: nan - accuracy: 0.5660 - val_loss: nan - val_accuracy: 0.5687\n",
      "Epoch 34/100\n",
      "13713/13713 - 6s - loss: nan - accuracy: 0.5660 - val_loss: nan - val_accuracy: 0.5687\n",
      "Epoch 35/100\n",
      "13713/13713 - 6s - loss: nan - accuracy: 0.5660 - val_loss: nan - val_accuracy: 0.5687\n",
      "Epoch 36/100\n",
      "13713/13713 - 6s - loss: nan - accuracy: 0.5660 - val_loss: nan - val_accuracy: 0.5687\n",
      "Epoch 37/100\n",
      "13713/13713 - 6s - loss: nan - accuracy: 0.5660 - val_loss: nan - val_accuracy: 0.5687\n",
      "Epoch 38/100\n",
      "13713/13713 - 5s - loss: nan - accuracy: 0.5660 - val_loss: nan - val_accuracy: 0.5687\n",
      "Epoch 39/100\n",
      "13713/13713 - 5s - loss: nan - accuracy: 0.5660 - val_loss: nan - val_accuracy: 0.5687\n",
      "Epoch 40/100\n",
      "13713/13713 - 5s - loss: nan - accuracy: 0.5660 - val_loss: nan - val_accuracy: 0.5687\n",
      "Epoch 41/100\n",
      "13713/13713 - 5s - loss: nan - accuracy: 0.5660 - val_loss: nan - val_accuracy: 0.5687\n",
      "Epoch 42/100\n",
      "13713/13713 - 5s - loss: nan - accuracy: 0.5660 - val_loss: nan - val_accuracy: 0.5687\n",
      "Epoch 43/100\n",
      "13713/13713 - 5s - loss: nan - accuracy: 0.5660 - val_loss: nan - val_accuracy: 0.5687\n",
      "Epoch 44/100\n",
      "13713/13713 - 6s - loss: nan - accuracy: 0.5660 - val_loss: nan - val_accuracy: 0.5687\n",
      "Epoch 45/100\n",
      "13713/13713 - 6s - loss: nan - accuracy: 0.5660 - val_loss: nan - val_accuracy: 0.5687\n",
      "Epoch 46/100\n",
      "13713/13713 - 5s - loss: nan - accuracy: 0.5660 - val_loss: nan - val_accuracy: 0.5687\n",
      "Epoch 47/100\n",
      "13713/13713 - 5s - loss: nan - accuracy: 0.5660 - val_loss: nan - val_accuracy: 0.5687\n",
      "Epoch 48/100\n",
      "13713/13713 - 7s - loss: nan - accuracy: 0.5660 - val_loss: nan - val_accuracy: 0.5687\n",
      "Epoch 49/100\n",
      "13713/13713 - 8s - loss: nan - accuracy: 0.5660 - val_loss: nan - val_accuracy: 0.5687\n",
      "Epoch 50/100\n",
      "13713/13713 - 7s - loss: nan - accuracy: 0.5660 - val_loss: nan - val_accuracy: 0.5687\n",
      "Epoch 51/100\n",
      "13713/13713 - 7s - loss: nan - accuracy: 0.5660 - val_loss: nan - val_accuracy: 0.5687\n",
      "Epoch 52/100\n",
      "13713/13713 - 6s - loss: nan - accuracy: 0.5660 - val_loss: nan - val_accuracy: 0.5687\n",
      "Epoch 53/100\n",
      "13713/13713 - 6s - loss: nan - accuracy: 0.5660 - val_loss: nan - val_accuracy: 0.5687\n",
      "Epoch 54/100\n",
      "13713/13713 - 6s - loss: nan - accuracy: 0.5660 - val_loss: nan - val_accuracy: 0.5687\n",
      "Epoch 55/100\n",
      "13713/13713 - 7s - loss: nan - accuracy: 0.5660 - val_loss: nan - val_accuracy: 0.5687\n",
      "Epoch 56/100\n",
      "13713/13713 - 6s - loss: nan - accuracy: 0.5660 - val_loss: nan - val_accuracy: 0.5687\n",
      "Epoch 57/100\n",
      "13713/13713 - 6s - loss: nan - accuracy: 0.5660 - val_loss: nan - val_accuracy: 0.5687\n",
      "Epoch 58/100\n",
      "13713/13713 - 5s - loss: nan - accuracy: 0.5660 - val_loss: nan - val_accuracy: 0.5687\n",
      "Epoch 59/100\n",
      "13713/13713 - 5s - loss: nan - accuracy: 0.5660 - val_loss: nan - val_accuracy: 0.5687\n",
      "Epoch 60/100\n",
      "13713/13713 - 5s - loss: nan - accuracy: 0.5660 - val_loss: nan - val_accuracy: 0.5687\n",
      "Epoch 61/100\n",
      "13713/13713 - 5s - loss: nan - accuracy: 0.5660 - val_loss: nan - val_accuracy: 0.5687\n",
      "Epoch 62/100\n",
      "13713/13713 - 5s - loss: nan - accuracy: 0.5660 - val_loss: nan - val_accuracy: 0.5687\n",
      "Epoch 63/100\n",
      "13713/13713 - 5s - loss: nan - accuracy: 0.5660 - val_loss: nan - val_accuracy: 0.5687\n",
      "Epoch 64/100\n",
      "13713/13713 - 5s - loss: nan - accuracy: 0.5660 - val_loss: nan - val_accuracy: 0.5687\n",
      "Epoch 65/100\n",
      "13713/13713 - 5s - loss: nan - accuracy: 0.5660 - val_loss: nan - val_accuracy: 0.5687\n",
      "Epoch 66/100\n",
      "13713/13713 - 5s - loss: nan - accuracy: 0.5660 - val_loss: nan - val_accuracy: 0.5687\n",
      "Epoch 67/100\n",
      "13713/13713 - 5s - loss: nan - accuracy: 0.5660 - val_loss: nan - val_accuracy: 0.5687\n",
      "Epoch 68/100\n",
      "13713/13713 - 5s - loss: nan - accuracy: 0.5660 - val_loss: nan - val_accuracy: 0.5687\n",
      "Epoch 69/100\n",
      "13713/13713 - 5s - loss: nan - accuracy: 0.5660 - val_loss: nan - val_accuracy: 0.5687\n",
      "Epoch 70/100\n",
      "13713/13713 - 7s - loss: nan - accuracy: 0.5660 - val_loss: nan - val_accuracy: 0.5687\n",
      "Epoch 71/100\n",
      "13713/13713 - 7s - loss: nan - accuracy: 0.5660 - val_loss: nan - val_accuracy: 0.5687\n",
      "Epoch 72/100\n",
      "13713/13713 - 7s - loss: nan - accuracy: 0.5660 - val_loss: nan - val_accuracy: 0.5687\n",
      "Epoch 73/100\n",
      "13713/13713 - 7s - loss: nan - accuracy: 0.5660 - val_loss: nan - val_accuracy: 0.5687\n",
      "Epoch 74/100\n",
      "13713/13713 - 6s - loss: nan - accuracy: 0.5660 - val_loss: nan - val_accuracy: 0.5687\n",
      "Epoch 75/100\n",
      "13713/13713 - 6s - loss: nan - accuracy: 0.5660 - val_loss: nan - val_accuracy: 0.5687\n",
      "Epoch 76/100\n",
      "13713/13713 - 6s - loss: nan - accuracy: 0.5660 - val_loss: nan - val_accuracy: 0.5687\n",
      "Epoch 77/100\n",
      "13713/13713 - 6s - loss: nan - accuracy: 0.5660 - val_loss: nan - val_accuracy: 0.5687\n",
      "Epoch 78/100\n",
      "13713/13713 - 6s - loss: nan - accuracy: 0.5660 - val_loss: nan - val_accuracy: 0.5687\n",
      "Epoch 79/100\n",
      "13713/13713 - 6s - loss: nan - accuracy: 0.5660 - val_loss: nan - val_accuracy: 0.5687\n",
      "Epoch 80/100\n",
      "13713/13713 - 6s - loss: nan - accuracy: 0.5660 - val_loss: nan - val_accuracy: 0.5687\n",
      "Epoch 81/100\n",
      "13713/13713 - 6s - loss: nan - accuracy: 0.5660 - val_loss: nan - val_accuracy: 0.5687\n",
      "Epoch 82/100\n",
      "13713/13713 - 5s - loss: nan - accuracy: 0.5660 - val_loss: nan - val_accuracy: 0.5687\n"
     ]
    },
    {
     "name": "stdout",
     "output_type": "stream",
     "text": [
      "Epoch 83/100\n",
      "13713/13713 - 5s - loss: nan - accuracy: 0.5660 - val_loss: nan - val_accuracy: 0.5687\n",
      "Epoch 84/100\n",
      "13713/13713 - 5s - loss: nan - accuracy: 0.5660 - val_loss: nan - val_accuracy: 0.5687\n",
      "Epoch 85/100\n",
      "13713/13713 - 5s - loss: nan - accuracy: 0.5660 - val_loss: nan - val_accuracy: 0.5687\n",
      "Epoch 86/100\n",
      "13713/13713 - 5s - loss: nan - accuracy: 0.5660 - val_loss: nan - val_accuracy: 0.5687\n",
      "Epoch 87/100\n",
      "13713/13713 - 5s - loss: nan - accuracy: 0.5660 - val_loss: nan - val_accuracy: 0.5687\n",
      "Epoch 88/100\n",
      "13713/13713 - 5s - loss: nan - accuracy: 0.5660 - val_loss: nan - val_accuracy: 0.5687\n",
      "Epoch 89/100\n",
      "13713/13713 - 5s - loss: nan - accuracy: 0.5660 - val_loss: nan - val_accuracy: 0.5687\n",
      "Epoch 90/100\n",
      "13713/13713 - 7s - loss: nan - accuracy: 0.5660 - val_loss: nan - val_accuracy: 0.5687\n",
      "Epoch 91/100\n",
      "13713/13713 - 8s - loss: nan - accuracy: 0.5660 - val_loss: nan - val_accuracy: 0.5687\n",
      "Epoch 92/100\n",
      "13713/13713 - 8s - loss: nan - accuracy: 0.5660 - val_loss: nan - val_accuracy: 0.5687\n",
      "Epoch 93/100\n",
      "13713/13713 - 7s - loss: nan - accuracy: 0.5660 - val_loss: nan - val_accuracy: 0.5687\n",
      "Epoch 94/100\n",
      "13713/13713 - 7s - loss: nan - accuracy: 0.5660 - val_loss: nan - val_accuracy: 0.5687\n",
      "Epoch 95/100\n",
      "13713/13713 - 6s - loss: nan - accuracy: 0.5660 - val_loss: nan - val_accuracy: 0.5687\n",
      "Epoch 96/100\n",
      "13713/13713 - 6s - loss: nan - accuracy: 0.5660 - val_loss: nan - val_accuracy: 0.5687\n",
      "Epoch 97/100\n",
      "13713/13713 - 6s - loss: nan - accuracy: 0.5660 - val_loss: nan - val_accuracy: 0.5687\n",
      "Epoch 98/100\n",
      "13713/13713 - 6s - loss: nan - accuracy: 0.5660 - val_loss: nan - val_accuracy: 0.5687\n",
      "Epoch 99/100\n",
      "13713/13713 - 6s - loss: nan - accuracy: 0.5660 - val_loss: nan - val_accuracy: 0.5687\n",
      "Epoch 100/100\n",
      "13713/13713 - 6s - loss: nan - accuracy: 0.5660 - val_loss: nan - val_accuracy: 0.5687\n"
     ]
    }
   ],
   "source": [
    "gru_model_fit = gru_model.fit(X_train,y_train,\n",
    "    epochs = max_epochs, shuffle = False,\n",
    "    validation_data = (X_test,y_test), \n",
    "    verbose = 2,\n",
    "    callbacks = [earlystop_callback])"
   ]
  },
  {
   "cell_type": "code",
   "execution_count": 341,
   "metadata": {},
   "outputs": [
    {
     "name": "stdout",
     "output_type": "stream",
     "text": [
      "\n",
      "Gru Full training set accuracy: 0.5660 \n",
      "\n"
     ]
    }
   ],
   "source": [
    "# evaluate fitted model on the full training set\n",
    "gru_train_loss, gru_train_acc = gru_model.evaluate(X_train,y_train,verbose = 3)\n",
    "print('\\nGru Full training set accuracy:', \\\n",
    "\t'{:6.4f}'.format(np.round(gru_train_acc, decimals = 4)), '\\n')"
   ]
  },
  {
   "cell_type": "code",
   "execution_count": 342,
   "metadata": {},
   "outputs": [
    {
     "name": "stdout",
     "output_type": "stream",
     "text": [
      "GRU Hold-out test set accuracy: 0.5687\n"
     ]
    }
   ],
   "source": [
    "# evaluate the fitted model on the hold-out test set\n",
    "gru_test_loss, gru_test_acc = gru_model.evaluate(X_test,  y_test, verbose = 3)\n",
    "print('GRU Hold-out test set accuracy:', \\\n",
    "\t'{:6.4f}'.format(np.round(gru_test_acc, decimals = 4)))"
   ]
  },
  {
   "cell_type": "code",
   "execution_count": 361,
   "metadata": {},
   "outputs": [],
   "source": [
    "from sklearn.metrics import confusion_matrix\n",
    "from sklearn.metrics import accuracy_score, roc_curve, auc"
   ]
  },
  {
   "cell_type": "code",
   "execution_count": 344,
   "metadata": {},
   "outputs": [
    {
     "data": {
      "text/plain": [
       "(4572,)"
      ]
     },
     "execution_count": 344,
     "metadata": {},
     "output_type": "execute_result"
    }
   ],
   "source": [
    "y_pred=lstm_model.predict_classes(X_test)\n",
    "y_pred.shape"
   ]
  },
  {
   "cell_type": "code",
   "execution_count": 347,
   "metadata": {},
   "outputs": [],
   "source": [
    "cm = confusion_matrix(y_test,y_pred)"
   ]
  },
  {
   "cell_type": "code",
   "execution_count": 350,
   "metadata": {},
   "outputs": [
    {
     "data": {
      "text/html": [
       "<div>\n",
       "<style scoped>\n",
       "    .dataframe tbody tr th:only-of-type {\n",
       "        vertical-align: middle;\n",
       "    }\n",
       "\n",
       "    .dataframe tbody tr th {\n",
       "        vertical-align: top;\n",
       "    }\n",
       "\n",
       "    .dataframe thead th {\n",
       "        text-align: right;\n",
       "    }\n",
       "</style>\n",
       "<table border=\"1\" class=\"dataframe\">\n",
       "  <thead>\n",
       "    <tr style=\"text-align: right;\">\n",
       "      <th></th>\n",
       "      <th>0</th>\n",
       "      <th>1</th>\n",
       "    </tr>\n",
       "  </thead>\n",
       "  <tbody>\n",
       "    <tr>\n",
       "      <th>0</th>\n",
       "      <td>1993</td>\n",
       "      <td>607</td>\n",
       "    </tr>\n",
       "    <tr>\n",
       "      <th>1</th>\n",
       "      <td>1412</td>\n",
       "      <td>560</td>\n",
       "    </tr>\n",
       "  </tbody>\n",
       "</table>\n",
       "</div>"
      ],
      "text/plain": [
       "      0    1\n",
       "0  1993  607\n",
       "1  1412  560"
      ]
     },
     "execution_count": 350,
     "metadata": {},
     "output_type": "execute_result"
    }
   ],
   "source": [
    "cm_df = pd.DataFrame(cm)\n",
    "cm_df"
   ]
  },
  {
   "cell_type": "code",
   "execution_count": 363,
   "metadata": {},
   "outputs": [
    {
     "data": {
      "image/png": "[encoded data removed]",
      "text/plain": [
       "<Figure size 432x288 with 1 Axes>"
      ]
     },
     "metadata": {},
     "output_type": "display_data"
    }
   ],
   "source": [
    "fpr = dict()\n",
    "tpr = dict()\n",
    "roc_auc = dict()\n",
    "for i in range(2):\n",
    "    fpr[i], tpr[i], _ = roc_curve(y_test, y_pred)\n",
    "    roc_auc[i] = auc(fpr[i], tpr[i])\n",
    "\n",
    "\n",
    "plt.figure()\n",
    "plt.plot(fpr[1], tpr[1])\n",
    "plt.xlabel('False Positive Rate')\n",
    "plt.ylabel('True Positive Rate')\n",
    "plt.title('Receiver operating characteristic')\n",
    "plt.show()"
   ]
  },
  {
   "cell_type": "code",
   "execution_count": 391,
   "metadata": {},
   "outputs": [],
   "source": [
    "def plot_confusion(nnName, y_test,y_pred):\n",
    "    cm_data = confusion_matrix(y_test,y_pred)\n",
    "    plt.figure()\n",
    "    selected_cmap = sns.cubehelix_palette(light=1, as_cmap=True)\n",
    "    sns_plot = sns.heatmap(cm_data, annot=True, fmt=\"d\", \\\n",
    "    cmap = selected_cmap, linewidths = 0.5, cbar = False)\n",
    "    sns_plot.set_yticklabels(sns_plot.get_yticklabels(), rotation = 0)\n",
    "    plt.title(nnName +'\\nAccuracy:{0:.3f}'.format(accuracy_score(y_test, y_pred)))\n",
    "    plt.ylabel('True Index Value for Label')\n",
    "    plt.xlabel('Predicted Index Value for Label')\n",
    "    #plt.show() # use if plot to screen is desired\n",
    "    plt.savefig(nnName + '-fig-confusion-matrix.pdf', \n",
    "        papertype = 'letter', orientation ='landscape')\n",
    "    plt.show()\n",
    "    plt.close()"
   ]
  },
  {
   "cell_type": "code",
   "execution_count": 392,
   "metadata": {},
   "outputs": [
    {
     "data": {
      "image/png": "[encoded data removed]",
      "text/plain": [
       "<Figure size 432x288 with 1 Axes>"
      ]
     },
     "metadata": {},
     "output_type": "display_data"
    }
   ],
   "source": [
    "plot_confusion('LSTM', y_test,y_pred)"
   ]
  },
  {
   "cell_type": "code",
   "execution_count": 368,
   "metadata": {},
   "outputs": [
    {
     "name": "stdout",
     "output_type": "stream",
     "text": [
      "Test set F1 (weighted average): 0.5314 \n",
      "\n"
     ]
    }
   ],
   "source": [
    "F1_value = \\\n",
    "    metrics.precision_recall_fscore_support(y_test, y_pred, average='weighted')[2]\n",
    "print('Test set F1 (weighted average):', \\\n",
    "\t'{:6.4f}'.format(np.round(F1_value, decimals = 4)),'\\n')"
   ]
  },
  {
   "cell_type": "code",
   "execution_count": 371,
   "metadata": {},
   "outputs": [
    {
     "name": "stdout",
     "output_type": "stream",
     "text": [
      "Word embeddings matrix dimensions (vocab_size, embeddings_dim):  (10000, 16) \n",
      "\n"
     ]
    }
   ],
   "source": [
    "embeddings_layer = lstm_model.layers[0]\n",
    "word_embeddings = embeddings_layer.get_weights()[0]\n",
    "print('Word embeddings matrix dimensions (vocab_size, embeddings_dim): ', \n",
    "    word_embeddings.shape, '\\n')"
   ]
  },
  {
   "cell_type": "code",
   "execution_count": null,
   "metadata": {},
   "outputs": [],
   "source": []
  }
 ],
 "metadata": {
  "kernelspec": {
   "display_name": "Python 3",
   "language": "python",
   "name": "python3"
  },
  "language_info": {
   "codemirror_mode": {
    "name": "ipython",
    "version": 3
   },
   "file_extension": ".py",
   "mimetype": "text/x-python",
   "name": "python",
   "nbconvert_exporter": "python",
   "pygments_lexer": "ipython3",
   "version": "3.7.7"
  }
 },
 "nbformat": 4,
 "nbformat_minor": 4
}
