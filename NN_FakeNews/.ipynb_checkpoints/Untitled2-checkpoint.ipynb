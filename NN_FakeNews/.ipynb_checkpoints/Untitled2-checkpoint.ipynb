{
 "cells": [
  {
   "cell_type": "code",
   "execution_count": 272,
   "metadata": {},
   "outputs": [],
   "source": [
    "import numpy as np\n",
    "import pandas as pd\n",
    "import matplotlib.pyplot as plt\n",
    "import seaborn as sns\n",
    "\n",
    "\n",
    "import tensorflow as tf\n",
    "from time import time \n",
    "\n",
    "from tensorflow.keras.layers import Dense, Dropout, Embedding, GRU, LSTM, RNN, SpatialDropout1D\n",
    "from tensorflow.keras.models import Sequential\n",
    "from tensorflow.keras.preprocessing.text import one_hot\n",
    "from tensorflow.keras.preprocessing.sequence import pad_sequences\n",
    "from sklearn.model_selection import train_test_split\n",
    "from sklearn.metrics import confusion_matrix\n",
    "from sklearn.metrics import accuracy_score, roc_curve, auc\n",
    "from sklearn import metrics\n",
    "\n",
    "from tensorflow.keras.preprocessing.text import Tokenizer\n",
    "from tensorflow.keras.preprocessing.sequence import pad_sequences\n",
    "from tensorflow.keras.models import Sequential\n",
    "from tensorflow.keras.layers import Dense \n",
    "from tensorflow.keras.layers import Embedding\n",
    "from tensorflow.keras.layers import Conv1D\n",
    "from tensorflow.keras.layers import GlobalMaxPooling1D\n",
    "from tensorflow.keras.utils import plot_model\n",
    "from tensorflow.keras.utils import to_categorical\n",
    "\n"
   ]
  },
  {
   "cell_type": "code",
   "execution_count": 273,
   "metadata": {},
   "outputs": [
    {
     "data": {
      "text/plain": [
       "'2.1.0'"
      ]
     },
     "execution_count": 273,
     "metadata": {},
     "output_type": "execute_result"
    }
   ],
   "source": [
    "tf.__version__"
   ]
  },
  {
   "cell_type": "code",
   "execution_count": 103,
   "metadata": {},
   "outputs": [],
   "source": [
    "train=pd.read_csv('Data/train.csv')\n",
    "test=pd.read_csv('Data/test.csv')\n",
    "submit=pd.read_csv('Data/submit.csv')"
   ]
  },
  {
   "cell_type": "code",
   "execution_count": 52,
   "metadata": {},
   "outputs": [
    {
     "data": {
      "text/html": [
       "<div>\n",
       "<style scoped>\n",
       "    .dataframe tbody tr th:only-of-type {\n",
       "        vertical-align: middle;\n",
       "    }\n",
       "\n",
       "    .dataframe tbody tr th {\n",
       "        vertical-align: top;\n",
       "    }\n",
       "\n",
       "    .dataframe thead th {\n",
       "        text-align: right;\n",
       "    }\n",
       "</style>\n",
       "<table border=\"1\" class=\"dataframe\">\n",
       "  <thead>\n",
       "    <tr style=\"text-align: right;\">\n",
       "      <th></th>\n",
       "      <th>id</th>\n",
       "      <th>title</th>\n",
       "      <th>author</th>\n",
       "      <th>text</th>\n",
       "      <th>label</th>\n",
       "    </tr>\n",
       "  </thead>\n",
       "  <tbody>\n",
       "    <tr>\n",
       "      <th>0</th>\n",
       "      <td>0</td>\n",
       "      <td>House Dem Aide: We Didn’t Even See Comey’s Let...</td>\n",
       "      <td>Darrell Lucus</td>\n",
       "      <td>House Dem Aide: We Didn’t Even See Comey’s Let...</td>\n",
       "      <td>1</td>\n",
       "    </tr>\n",
       "    <tr>\n",
       "      <th>1</th>\n",
       "      <td>1</td>\n",
       "      <td>FLYNN: Hillary Clinton, Big Woman on Campus - ...</td>\n",
       "      <td>Daniel J. Flynn</td>\n",
       "      <td>Ever get the feeling your life circles the rou...</td>\n",
       "      <td>0</td>\n",
       "    </tr>\n",
       "    <tr>\n",
       "      <th>2</th>\n",
       "      <td>2</td>\n",
       "      <td>Why the Truth Might Get You Fired</td>\n",
       "      <td>Consortiumnews.com</td>\n",
       "      <td>Why the Truth Might Get You Fired October 29, ...</td>\n",
       "      <td>1</td>\n",
       "    </tr>\n",
       "    <tr>\n",
       "      <th>3</th>\n",
       "      <td>3</td>\n",
       "      <td>15 Civilians Killed In Single US Airstrike Hav...</td>\n",
       "      <td>Jessica Purkiss</td>\n",
       "      <td>Videos 15 Civilians Killed In Single US Airstr...</td>\n",
       "      <td>1</td>\n",
       "    </tr>\n",
       "    <tr>\n",
       "      <th>4</th>\n",
       "      <td>4</td>\n",
       "      <td>Iranian woman jailed for fictional unpublished...</td>\n",
       "      <td>Howard Portnoy</td>\n",
       "      <td>Print \\nAn Iranian woman has been sentenced to...</td>\n",
       "      <td>1</td>\n",
       "    </tr>\n",
       "  </tbody>\n",
       "</table>\n",
       "</div>"
      ],
      "text/plain": [
       "   id                                              title              author  \\\n",
       "0   0  House Dem Aide: We Didn’t Even See Comey’s Let...       Darrell Lucus   \n",
       "1   1  FLYNN: Hillary Clinton, Big Woman on Campus - ...     Daniel J. Flynn   \n",
       "2   2                  Why the Truth Might Get You Fired  Consortiumnews.com   \n",
       "3   3  15 Civilians Killed In Single US Airstrike Hav...     Jessica Purkiss   \n",
       "4   4  Iranian woman jailed for fictional unpublished...      Howard Portnoy   \n",
       "\n",
       "                                                text  label  \n",
       "0  House Dem Aide: We Didn’t Even See Comey’s Let...      1  \n",
       "1  Ever get the feeling your life circles the rou...      0  \n",
       "2  Why the Truth Might Get You Fired October 29, ...      1  \n",
       "3  Videos 15 Civilians Killed In Single US Airstr...      1  \n",
       "4  Print \\nAn Iranian woman has been sentenced to...      1  "
      ]
     },
     "execution_count": 52,
     "metadata": {},
     "output_type": "execute_result"
    }
   ],
   "source": [
    "train.head()"
   ]
  },
  {
   "cell_type": "code",
   "execution_count": 109,
   "metadata": {},
   "outputs": [
    {
     "data": {
      "text/html": [
       "<div>\n",
       "<style scoped>\n",
       "    .dataframe tbody tr th:only-of-type {\n",
       "        vertical-align: middle;\n",
       "    }\n",
       "\n",
       "    .dataframe tbody tr th {\n",
       "        vertical-align: top;\n",
       "    }\n",
       "\n",
       "    .dataframe thead th {\n",
       "        text-align: right;\n",
       "    }\n",
       "</style>\n",
       "<table border=\"1\" class=\"dataframe\">\n",
       "  <thead>\n",
       "    <tr style=\"text-align: right;\">\n",
       "      <th></th>\n",
       "      <th>id</th>\n",
       "      <th>title</th>\n",
       "      <th>author</th>\n",
       "      <th>text</th>\n",
       "    </tr>\n",
       "  </thead>\n",
       "  <tbody>\n",
       "    <tr>\n",
       "      <th>0</th>\n",
       "      <td>20800</td>\n",
       "      <td>Specter of Trump Loosens Tongues, if Not Purse...</td>\n",
       "      <td>David Streitfeld</td>\n",
       "      <td>PALO ALTO, Calif.  —   After years of scorning...</td>\n",
       "    </tr>\n",
       "    <tr>\n",
       "      <th>1</th>\n",
       "      <td>20801</td>\n",
       "      <td>Russian warships ready to strike terrorists ne...</td>\n",
       "      <td>NaN</td>\n",
       "      <td>Russian warships ready to strike terrorists ne...</td>\n",
       "    </tr>\n",
       "    <tr>\n",
       "      <th>2</th>\n",
       "      <td>20802</td>\n",
       "      <td>#NoDAPL: Native American Leaders Vow to Stay A...</td>\n",
       "      <td>Common Dreams</td>\n",
       "      <td>Videos #NoDAPL: Native American Leaders Vow to...</td>\n",
       "    </tr>\n",
       "    <tr>\n",
       "      <th>3</th>\n",
       "      <td>20803</td>\n",
       "      <td>Tim Tebow Will Attempt Another Comeback, This ...</td>\n",
       "      <td>Daniel Victor</td>\n",
       "      <td>If at first you don’t succeed, try a different...</td>\n",
       "    </tr>\n",
       "    <tr>\n",
       "      <th>4</th>\n",
       "      <td>20804</td>\n",
       "      <td>Keiser Report: Meme Wars (E995)</td>\n",
       "      <td>Truth Broadcast Network</td>\n",
       "      <td>42 mins ago 1 Views 0 Comments 0 Likes 'For th...</td>\n",
       "    </tr>\n",
       "  </tbody>\n",
       "</table>\n",
       "</div>"
      ],
      "text/plain": [
       "      id                                              title  \\\n",
       "0  20800  Specter of Trump Loosens Tongues, if Not Purse...   \n",
       "1  20801  Russian warships ready to strike terrorists ne...   \n",
       "2  20802  #NoDAPL: Native American Leaders Vow to Stay A...   \n",
       "3  20803  Tim Tebow Will Attempt Another Comeback, This ...   \n",
       "4  20804                    Keiser Report: Meme Wars (E995)   \n",
       "\n",
       "                    author                                               text  \n",
       "0         David Streitfeld  PALO ALTO, Calif.  —   After years of scorning...  \n",
       "1                      NaN  Russian warships ready to strike terrorists ne...  \n",
       "2            Common Dreams  Videos #NoDAPL: Native American Leaders Vow to...  \n",
       "3            Daniel Victor  If at first you don’t succeed, try a different...  \n",
       "4  Truth Broadcast Network  42 mins ago 1 Views 0 Comments 0 Likes 'For th...  "
      ]
     },
     "execution_count": 109,
     "metadata": {},
     "output_type": "execute_result"
    }
   ],
   "source": [
    "test.head()"
   ]
  },
  {
   "cell_type": "code",
   "execution_count": 55,
   "metadata": {},
   "outputs": [],
   "source": [
    "nclasses = len(set(train['label']))"
   ]
  },
  {
   "cell_type": "code",
   "execution_count": 168,
   "metadata": {},
   "outputs": [],
   "source": [
    "# natural language processing model hyperparameters\n",
    "vocab_size    =5000 # number of unique words to use in tokenization\n",
    "embedding_dim = 40  # dimension of neural network embedding for a word\n",
    "max_length    = 30  # number of words to be retained in each document\n",
    "max_epochs    = 10   "
   ]
  },
  {
   "cell_type": "code",
   "execution_count": 179,
   "metadata": {},
   "outputs": [],
   "source": [
    "def encode_train_docs(data):\n",
    "    df= data.dropna()\n",
    "    X=df['title']\n",
    "    y=df['label']\n",
    "    X=[i.lower() for i in X]\n",
    "    onehot=[one_hot(words,voc_size) for words in X]\n",
    "    embedded_doc=pad_sequences(onehot, padding='pre', maxlen=max_length)\n",
    "    X_final=np.array(embedded_doc)\n",
    "    y_final=np.array(y)\n",
    "    return X_final, y_final"
   ]
  },
  {
   "cell_type": "code",
   "execution_count": 180,
   "metadata": {},
   "outputs": [],
   "source": [
    "def encode_test_docs(data):\n",
    "    df= data.dropna()\n",
    "    X=df['title']\n",
    "    X=[i.lower() for i in X]\n",
    "    onehot=[one_hot(words,voc_size) for words in X]\n",
    "    embedded_doc=pad_sequences(onehot, padding='pre', maxlen=max_length)\n",
    "    X_final=np.array(embedded_doc)\n",
    "    return X_final"
   ]
  },
  {
   "cell_type": "code",
   "execution_count": 181,
   "metadata": {},
   "outputs": [
    {
     "name": "stdout",
     "output_type": "stream",
     "text": [
      "(18285, 30)\n",
      "(18285,)\n"
     ]
    }
   ],
   "source": [
    "X_final, y_final = encode_train_docs(train)\n",
    "print(X_final.shape)\n",
    "print(y_final.shape)"
   ]
  },
  {
   "cell_type": "code",
   "execution_count": 207,
   "metadata": {},
   "outputs": [],
   "source": [
    "#https://datascience.stackexchange.com/questions/15135/train-test-validation-set-splitting-in-sklearn\n",
    "X_train, X_dev, y_train, y_dev=train_test_split(X_final, y_final, test_size=0.2, random_state=1)"
   ]
  },
  {
   "cell_type": "code",
   "execution_count": 208,
   "metadata": {},
   "outputs": [],
   "source": [
    "# train, dev, test set will be 60%, 20%, 20% \n",
    "X_train, X_test, y_train, y_test = train_test_split(X_train, y_train, test_size=0.25, random_state=1) "
   ]
  },
  {
   "cell_type": "code",
   "execution_count": 209,
   "metadata": {},
   "outputs": [
    {
     "data": {
      "text/plain": [
       "(10971, 30)"
      ]
     },
     "execution_count": 209,
     "metadata": {},
     "output_type": "execute_result"
    }
   ],
   "source": [
    "X_train.shape"
   ]
  },
  {
   "cell_type": "code",
   "execution_count": 210,
   "metadata": {},
   "outputs": [
    {
     "data": {
      "text/plain": [
       "array([[   0,    0,    0, ...,  529, 2880, 3155],\n",
       "       [   0,    0,    0, ..., 3125, 1851, 3947],\n",
       "       [   0,    0,    0, ..., 4340,  272, 1071],\n",
       "       ...,\n",
       "       [   0,    0,    0, ..., 4340,  272, 1071],\n",
       "       [   0,    0,    0, ...,  972, 3019,  965],\n",
       "       [   0,    0,    0, ..., 3162, 4517,  276]])"
      ]
     },
     "execution_count": 210,
     "metadata": {},
     "output_type": "execute_result"
    }
   ],
   "source": [
    "X_dev"
   ]
  },
  {
   "cell_type": "code",
   "execution_count": 211,
   "metadata": {},
   "outputs": [
    {
     "data": {
      "text/plain": [
       "array([[   0,    0,    0, ..., 4340,  272, 1071],\n",
       "       [   0,    0,    0, ...,   84, 2353,  965],\n",
       "       [   0,    0,    0, ..., 4340, 4641,  397],\n",
       "       ...,\n",
       "       [   0,    0,    0, ..., 1316, 4162, 3851],\n",
       "       [   0,    0,    0, ..., 4340,  272, 1071],\n",
       "       [   0,    0,    0, ..., 4695, 2669,  965]])"
      ]
     },
     "execution_count": 211,
     "metadata": {},
     "output_type": "execute_result"
    }
   ],
   "source": [
    "X_val"
   ]
  },
  {
   "cell_type": "code",
   "execution_count": 212,
   "metadata": {},
   "outputs": [
    {
     "data": {
      "text/plain": [
       "array([   0,    0,    0,    0,    0,    0,    0,    0,    0,    0,    0,\n",
       "          0,    0,    0, 3945, 3134, 4847,  324, 1815, 3848, 3043, 1402,\n",
       "       4800, 1691, 2089, 1789, 2681, 4340,  272, 1071])"
      ]
     },
     "execution_count": 212,
     "metadata": {},
     "output_type": "execute_result"
    }
   ],
   "source": [
    "test_data_new= encode_test_docs(test)\n",
    "test_data_new[0]"
   ]
  },
  {
   "cell_type": "code",
   "execution_count": 213,
   "metadata": {},
   "outputs": [],
   "source": [
    "earlystop_callback = \\\n",
    "    tf.keras.callbacks.EarlyStopping(monitor='val_accuracy',\\\n",
    "    min_delta=0.01, patience=5, verbose=0, mode='auto',\\\n",
    "    baseline=None, restore_best_weights=False)"
   ]
  },
  {
   "cell_type": "markdown",
   "metadata": {},
   "source": [
    "<h3>LSTM Model </h3>"
   ]
  },
  {
   "cell_type": "code",
   "execution_count": 214,
   "metadata": {},
   "outputs": [],
   "source": [
    "def LSTM_model(voc_size,embedding_vector_feature, max_length, numberClasses):\n",
    "    # define the structure of the model\n",
    "    model = Sequential()\n",
    "    model.add(Embedding(voc_size,embedding_vector_feature, input_length=max_length))\n",
    "    model.add(LSTM(100))\n",
    "    model.add(Dense(numberClasses, activation='sigmoid'))\n",
    "    model.compile(loss='sparse_categorical_crossentropy',optimizer='adam',metrics=['accuracy'])\n",
    "    model.summary()\n",
    "    return model\n",
    "    "
   ]
  },
  {
   "cell_type": "code",
   "execution_count": 215,
   "metadata": {},
   "outputs": [
    {
     "name": "stdout",
     "output_type": "stream",
     "text": [
      "Model: \"sequential_17\"\n",
      "_________________________________________________________________\n",
      "Layer (type)                 Output Shape              Param #   \n",
      "=================================================================\n",
      "embedding_17 (Embedding)     (None, 30, 40)            200000    \n",
      "_________________________________________________________________\n",
      "lstm_17 (LSTM)               (None, 100)               56400     \n",
      "_________________________________________________________________\n",
      "dense_17 (Dense)             (None, 2)                 202       \n",
      "=================================================================\n",
      "Total params: 256,602\n",
      "Trainable params: 256,602\n",
      "Non-trainable params: 0\n",
      "_________________________________________________________________\n"
     ]
    }
   ],
   "source": [
    "lstm_model = LSTM_model(vocab_size,embedding_vector_feature,max_length, nclasses)"
   ]
  },
  {
   "cell_type": "code",
   "execution_count": 216,
   "metadata": {},
   "outputs": [
    {
     "name": "stdout",
     "output_type": "stream",
     "text": [
      "\n",
      "Epoch-by-Epoch Training Process for LSTM model\n",
      "Train on 10971 samples, validate on 3657 samples\n",
      "Epoch 1/10\n",
      "10971/10971 - 7s - loss: 0.2908 - accuracy: 0.8611 - val_loss: 0.1834 - val_accuracy: 0.9262\n",
      "Epoch 2/10\n",
      "10971/10971 - 6s - loss: 0.1222 - accuracy: 0.9538 - val_loss: 0.1995 - val_accuracy: 0.9163\n",
      "Epoch 3/10\n",
      "10971/10971 - 7s - loss: 0.0766 - accuracy: 0.9744 - val_loss: 0.2438 - val_accuracy: 0.9119\n",
      "Epoch 4/10\n",
      "10971/10971 - 7s - loss: 0.0490 - accuracy: 0.9861 - val_loss: 0.3026 - val_accuracy: 0.9155\n",
      "Epoch 5/10\n",
      "10971/10971 - 6s - loss: 0.0275 - accuracy: 0.9930 - val_loss: 0.4076 - val_accuracy: 0.9111\n",
      "Epoch 6/10\n",
      "10971/10971 - 7s - loss: 0.0169 - accuracy: 0.9961 - val_loss: 0.4004 - val_accuracy: 0.9119\n",
      "\n",
      "Time of execution for training (seconds):     38.379\n"
     ]
    }
   ],
   "source": [
    "print('\\nEpoch-by-Epoch Training Process for LSTM model')\n",
    "begin_time = time()\n",
    "lstm_modelHistory = lstm_model.fit(X_train,y_train,\n",
    "    epochs = max_epochs, shuffle = False,\n",
    "    validation_data = (X_dev,y_dev), \n",
    "    verbose = 2,\n",
    "    callbacks = [earlystop_callback])\n",
    "execution_time = time() - begin_time\n",
    "print('\\nTime of execution for training (seconds):', \\\n",
    "\t'{:10.3f}'.format(np.round(execution_time, decimals = 3)))"
   ]
  },
  {
   "cell_type": "code",
   "execution_count": 217,
   "metadata": {},
   "outputs": [
    {
     "name": "stdout",
     "output_type": "stream",
     "text": [
      "\n",
      "Full training set accuracy: 0.9980 \n",
      "\n"
     ]
    }
   ],
   "source": [
    "# evaluate fitted model on the full training set\n",
    "train_loss, train_acc = lstm_model.evaluate(X_train,y_train,verbose = 3)\n",
    "print('\\nFull training set accuracy:', \\\n",
    "\t'{:6.4f}'.format(np.round(train_acc, decimals = 4)), '\\n')"
   ]
  },
  {
   "cell_type": "code",
   "execution_count": 218,
   "metadata": {},
   "outputs": [
    {
     "name": "stdout",
     "output_type": "stream",
     "text": [
      "Hold-out test set accuracy: 0.9089\n"
     ]
    }
   ],
   "source": [
    "# evaluate the fitted model on the hold-out test set\n",
    "test_loss, test_acc = lstm_model.evaluate(X_test,  y_test, verbose = 3)\n",
    "print('Hold-out test set accuracy:', \\\n",
    "\t'{:6.4f}'.format(np.round(test_acc, decimals = 4)))"
   ]
  },
  {
   "cell_type": "code",
   "execution_count": 219,
   "metadata": {},
   "outputs": [],
   "source": [
    "# The training process may be evaluated by comparing training and\n",
    "# dev (validation) set performance. We use \"dev\" to indicate\n",
    "# that these data are used in evaluating various hyperparameter\n",
    "# settings. We do not test alternative hyperparameters here,\n",
    "# but in other programs there will be much hyperparameter testing.\n",
    "def plot_history(history):\n",
    "    acc = history.history['accuracy']\n",
    "    val_acc = history.history['val_accuracy']\n",
    "    loss = history.history['loss']\n",
    "    val_loss = history.history['val_loss']\n",
    "    epoch_number = range(1, len(acc) + 1)\n",
    "    plt.style.use('ggplot') # Grammar of Graphics plots\n",
    "    plt.figure(figsize=(10, 5))\n",
    "    plt.subplot(1, 2, 1)\n",
    "    plt.plot(epoch_number, acc, 'b', label='Training')\n",
    "    plt.plot(epoch_number, val_acc, 'r', label='Dev')\n",
    "    plt.title('Training and Dev Set Accuracy')\n",
    "    plt.xlabel('Epoch Number')\n",
    "    plt.ylabel('Accuracy')\n",
    "    plt.legend()\n",
    "    plt.subplot(1, 2, 2)\n",
    "    plt.plot(epoch_number, loss, 'b', label='Training')\n",
    "    plt.plot(epoch_number, val_loss, 'r', label='Dev')\n",
    "    plt.title('Training and Dev Set Loss')\n",
    "    plt.xlabel('Epoch Number')\n",
    "    plt.ylabel('Loss')\n",
    "    plt.legend()\n",
    "    #plt.savefig('fig-training-process.pdf', \n",
    "    #    papertype = 'letter', orientation ='landscape')\n",
    "    plt.show()"
   ]
  },
  {
   "cell_type": "code",
   "execution_count": 220,
   "metadata": {},
   "outputs": [
    {
     "data": {
      "image/png": "[encoded data removed]",
      "text/plain": [
       "<Figure size 720x360 with 2 Axes>"
      ]
     },
     "metadata": {},
     "output_type": "display_data"
    }
   ],
   "source": [
    "# show training process in external visualizations\n",
    "plot_history(lstm_modelHistory) "
   ]
  },
  {
   "cell_type": "code",
   "execution_count": 161,
   "metadata": {},
   "outputs": [],
   "source": []
  },
  {
   "cell_type": "code",
   "execution_count": 225,
   "metadata": {},
   "outputs": [
    {
     "data": {
      "text/plain": [
       "array([[9.9972659e-01, 6.4615338e-06],\n",
       "       [9.9999428e-01, 6.5998847e-08],\n",
       "       [3.2763646e-03, 9.7483552e-01],\n",
       "       ...,\n",
       "       [2.3682974e-03, 9.4082117e-01],\n",
       "       [9.9990916e-01, 1.8285219e-06],\n",
       "       [9.9958640e-01, 2.5968993e-05]], dtype=float32)"
      ]
     },
     "execution_count": 225,
     "metadata": {},
     "output_type": "execute_result"
    }
   ],
   "source": [
    "lstm_prediction = lstm_model.predict_classes(X_test)\n",
    "lstm_prediction"
   ]
  },
  {
   "cell_type": "code",
   "execution_count": 227,
   "metadata": {},
   "outputs": [],
   "source": [
    "test_preds = np.argmax(lstm_model.predict(X_test), axis = 1)"
   ]
  },
  {
   "cell_type": "code",
   "execution_count": 233,
   "metadata": {},
   "outputs": [
    {
     "name": "stdout",
     "output_type": "stream",
     "text": [
      "\n",
      "Classification Report for Hold-out Test Set:\n",
      "\n",
      "              precision    recall  f1-score   support\n",
      "\n",
      "           0       0.92      0.92      0.92      2040\n",
      "           1       0.89      0.90      0.90      1617\n",
      "\n",
      "    accuracy                           0.91      3657\n",
      "   macro avg       0.91      0.91      0.91      3657\n",
      "weighted avg       0.91      0.91      0.91      3657\n",
      "\n"
     ]
    }
   ],
   "source": [
    "print(\"\\nClassification Report for Hold-out Test Set:\\n\\n%s\"\n",
    "      % (metrics.classification_report(y_test, test_preds)))"
   ]
  },
  {
   "cell_type": "code",
   "execution_count": 234,
   "metadata": {},
   "outputs": [
    {
     "name": "stdout",
     "output_type": "stream",
     "text": [
      "Test set F1 (weighted average): 0.9090 \n",
      "\n"
     ]
    }
   ],
   "source": [
    "F1_value = \\\n",
    "    metrics.precision_recall_fscore_support(y_test, test_preds, average='weighted')[2]\n",
    "print('Test set F1 (weighted average):', \\\n",
    "\t'{:6.4f}'.format(np.round(F1_value, decimals = 4)),'\\n')"
   ]
  },
  {
   "cell_type": "code",
   "execution_count": 237,
   "metadata": {},
   "outputs": [],
   "source": [
    "cm_data = confusion_matrix(y_test, test_preds)"
   ]
  },
  {
   "cell_type": "code",
   "execution_count": 238,
   "metadata": {},
   "outputs": [],
   "source": [
    "def plot_confusion(nnName, y_test,y_pred):\n",
    "    cm_data = confusion_matrix(y_test,y_pred)\n",
    "    plt.figure()\n",
    "    selected_cmap = sns.cubehelix_palette(light=1, as_cmap=True)\n",
    "    sns_plot = sns.heatmap(cm_data, annot=True, fmt=\"d\", \\\n",
    "    cmap = selected_cmap, linewidths = 0.5, cbar = False)\n",
    "    sns_plot.set_yticklabels(sns_plot.get_yticklabels(), rotation = 0)\n",
    "    plt.title(nnName +'\\nAccuracy:{0:.3f}'.format(accuracy_score(y_test, y_pred)))\n",
    "    plt.ylabel('True Index Value for Label')\n",
    "    plt.xlabel('Predicted Index Value for Label')\n",
    "    #plt.show() # use if plot to screen is desired\n",
    "    plt.savefig(nnName + '-fig-confusion-matrix.pdf', \n",
    "        papertype = 'letter', orientation ='landscape')\n",
    "    plt.show()\n",
    "    plt.close()"
   ]
  },
  {
   "cell_type": "code",
   "execution_count": 239,
   "metadata": {},
   "outputs": [
    {
     "data": {
      "image/png": "[encoded data removed]",
      "text/plain": [
       "<Figure size 432x288 with 1 Axes>"
      ]
     },
     "metadata": {},
     "output_type": "display_data"
    }
   ],
   "source": [
    "plot_confusion('LSTM', y_test,test_preds)"
   ]
  },
  {
   "cell_type": "code",
   "execution_count": 242,
   "metadata": {},
   "outputs": [
    {
     "name": "stdout",
     "output_type": "stream",
     "text": [
      "Word embeddings matrix dimensions (vocab_size, embeddings_dim):  (5000, 40) \n",
      "\n"
     ]
    }
   ],
   "source": [
    "# examine the word embeddings fit to the training data\n",
    "# these are located in the initial modeling layer\n",
    "embeddings_layer = lstm_model.layers[0]\n",
    "word_embeddings = embeddings_layer.get_weights()[0]\n",
    "print('Word embeddings matrix dimensions (vocab_size, embeddings_dim): ', \n",
    "    word_embeddings.shape, '\\n')\n"
   ]
  },
  {
   "cell_type": "markdown",
   "metadata": {},
   "source": [
    "<h3> Conv1D Model </h3>"
   ]
  },
  {
   "cell_type": "code",
   "execution_count": 259,
   "metadata": {},
   "outputs": [],
   "source": [
    "def Conv1D_model(voc_size,embedding_vector_feature, max_length, numberClasses):\n",
    "    # define the structure of the model\n",
    "    model = Sequential()\n",
    "    model.add(Embedding(voc_size,embedding_vector_feature, input_length=max_length))\n",
    "    model.add(Conv1D(filters = 32, kernel_size = 8, activation = 'relu'))\n",
    "    model.add(GlobalMaxPooling1D())\n",
    "    model.add(Dense(numberClasses, activation = 'relu'))\n",
    "    model.add(Dense(numberClasses, activation='sigmoid'))\n",
    "    model.compile(loss='sparse_categorical_crossentropy',optimizer='adam',metrics=['accuracy'])\n",
    "    model.summary()\n",
    "    return model"
   ]
  },
  {
   "cell_type": "code",
   "execution_count": 260,
   "metadata": {},
   "outputs": [
    {
     "name": "stdout",
     "output_type": "stream",
     "text": [
      "Model: \"sequential_23\"\n",
      "_________________________________________________________________\n",
      "Layer (type)                 Output Shape              Param #   \n",
      "=================================================================\n",
      "embedding_23 (Embedding)     (None, 30, 40)            200000    \n",
      "_________________________________________________________________\n",
      "conv1d_4 (Conv1D)            (None, 23, 32)            10272     \n",
      "_________________________________________________________________\n",
      "global_max_pooling1d_4 (Glob (None, 32)                0         \n",
      "_________________________________________________________________\n",
      "dense_24 (Dense)             (None, 2)                 66        \n",
      "_________________________________________________________________\n",
      "dense_25 (Dense)             (None, 2)                 6         \n",
      "=================================================================\n",
      "Total params: 210,344\n",
      "Trainable params: 210,344\n",
      "Non-trainable params: 0\n",
      "_________________________________________________________________\n"
     ]
    }
   ],
   "source": [
    "conv1d_model = Conv1D_model(vocab_size,embedding_vector_feature,max_length, nclasses)"
   ]
  },
  {
   "cell_type": "code",
   "execution_count": 261,
   "metadata": {},
   "outputs": [
    {
     "name": "stdout",
     "output_type": "stream",
     "text": [
      "\n",
      "Epoch-by-Epoch Training Process for Conv1D model\n",
      "Train on 10971 samples, validate on 3657 samples\n",
      "Epoch 1/10\n",
      "10971/10971 - 1s - loss: 0.3248 - accuracy: 0.8342 - val_loss: 0.1819 - val_accuracy: 0.9262\n",
      "Epoch 2/10\n",
      "10971/10971 - 1s - loss: 0.1096 - accuracy: 0.9614 - val_loss: 0.1848 - val_accuracy: 0.9275\n",
      "Epoch 3/10\n",
      "10971/10971 - 1s - loss: 0.0411 - accuracy: 0.9891 - val_loss: 0.2169 - val_accuracy: 0.9243\n",
      "Epoch 4/10\n",
      "10971/10971 - 1s - loss: 0.0119 - accuracy: 0.9973 - val_loss: 0.2623 - val_accuracy: 0.9248\n",
      "Epoch 5/10\n",
      "10971/10971 - 1s - loss: 0.0037 - accuracy: 0.9995 - val_loss: 0.2958 - val_accuracy: 0.9234\n",
      "Epoch 6/10\n",
      "10971/10971 - 1s - loss: 0.0021 - accuracy: 0.9998 - val_loss: 0.3188 - val_accuracy: 0.9232\n",
      "\n",
      "Time of execution for training (seconds):      7.471\n"
     ]
    }
   ],
   "source": [
    "print('\\nEpoch-by-Epoch Training Process for Conv1D model')\n",
    "begin_time = time()\n",
    "conv1d_modelHistory = conv1d_model.fit(X_train,y_train,\n",
    "    epochs = max_epochs, shuffle = False,\n",
    "    validation_data = (X_dev,y_dev), \n",
    "    verbose = 2,\n",
    "    callbacks = [earlystop_callback])\n",
    "execution_time = time() - begin_time\n",
    "print('\\nTime of execution for training (seconds):', \\\n",
    "\t'{:10.3f}'.format(np.round(execution_time, decimals = 3)))"
   ]
  },
  {
   "cell_type": "code",
   "execution_count": 262,
   "metadata": {},
   "outputs": [
    {
     "name": "stdout",
     "output_type": "stream",
     "text": [
      "\n",
      "conv1d_model Full training set accuracy: 0.9998 \n",
      "\n"
     ]
    }
   ],
   "source": [
    "# evaluate fitted model on the full training set\n",
    "train_loss, train_acc = conv1d_model.evaluate(X_train,y_train,verbose = 3)\n",
    "print('\\nconv1d_model Full training set accuracy:', \\\n",
    "\t'{:6.4f}'.format(np.round(train_acc, decimals = 4)), '\\n')"
   ]
  },
  {
   "cell_type": "code",
   "execution_count": 263,
   "metadata": {},
   "outputs": [
    {
     "name": "stdout",
     "output_type": "stream",
     "text": [
      "conv1d_model Hold-out test set accuracy: 0.9188\n"
     ]
    }
   ],
   "source": [
    "# evaluate the fitted model on the hold-out test set\n",
    "test_loss, test_acc = conv1d_model.evaluate(X_test,  y_test, verbose = 3)\n",
    "print('conv1d_model Hold-out test set accuracy:', \\\n",
    "\t'{:6.4f}'.format(np.round(test_acc, decimals = 4)))"
   ]
  },
  {
   "cell_type": "code",
   "execution_count": 264,
   "metadata": {},
   "outputs": [
    {
     "data": {
      "image/png": "[encoded data removed]",
      "text/plain": [
       "<Figure size 720x360 with 2 Axes>"
      ]
     },
     "metadata": {},
     "output_type": "display_data"
    }
   ],
   "source": [
    "# show training process in external visualizations\n",
    "plot_history(conv1d_modelHistory) "
   ]
  },
  {
   "cell_type": "code",
   "execution_count": 266,
   "metadata": {},
   "outputs": [],
   "source": [
    "conv1Dtest_preds = np.argmax(conv1d_model.predict(X_test), axis = 1)"
   ]
  },
  {
   "cell_type": "code",
   "execution_count": 267,
   "metadata": {},
   "outputs": [
    {
     "name": "stdout",
     "output_type": "stream",
     "text": [
      "\n",
      "Classification Report for Hold-out Test Set:\n",
      "\n",
      "              precision    recall  f1-score   support\n",
      "\n",
      "           0       0.95      0.90      0.93      2040\n",
      "           1       0.88      0.94      0.91      1617\n",
      "\n",
      "    accuracy                           0.92      3657\n",
      "   macro avg       0.92      0.92      0.92      3657\n",
      "weighted avg       0.92      0.92      0.92      3657\n",
      "\n"
     ]
    }
   ],
   "source": [
    "print(\"\\nClassification Report for Hold-out Test Set:\\n\\n%s\"\n",
    "      % (metrics.classification_report(y_test, conv1Dtest_preds)))"
   ]
  },
  {
   "cell_type": "code",
   "execution_count": 268,
   "metadata": {},
   "outputs": [
    {
     "name": "stdout",
     "output_type": "stream",
     "text": [
      "Test set F1 (weighted average): 0.9190 \n",
      "\n"
     ]
    }
   ],
   "source": [
    "F1_value = \\\n",
    "    metrics.precision_recall_fscore_support(y_test, conv1Dtest_preds, average='weighted')[2]\n",
    "print('Test set F1 (weighted average):', \\\n",
    "\t'{:6.4f}'.format(np.round(F1_value, decimals = 4)),'\\n')"
   ]
  },
  {
   "cell_type": "code",
   "execution_count": 269,
   "metadata": {},
   "outputs": [],
   "source": [
    "cm_data = confusion_matrix(y_test, conv1Dtest_preds)"
   ]
  },
  {
   "cell_type": "code",
   "execution_count": 304,
   "metadata": {},
   "outputs": [
    {
     "data": {
      "image/png": "[encoded data removed]",
      "text/plain": [
       "<Figure size 432x288 with 1 Axes>"
      ]
     },
     "metadata": {},
     "output_type": "display_data"
    }
   ],
   "source": [
    "plot_confusion('Conv1D', y_test,conv1Dtest_preds)"
   ]
  },
  {
   "cell_type": "markdown",
   "metadata": {},
   "source": [
    "<h3>GRU neural Network</h3>"
   ]
  },
  {
   "cell_type": "code",
   "execution_count": 297,
   "metadata": {},
   "outputs": [
    {
     "name": "stdout",
     "output_type": "stream",
     "text": [
      "Model: \"gru_nn_model\"\n",
      "_________________________________________________________________\n",
      "Layer (type)                 Output Shape              Param #   \n",
      "=================================================================\n",
      "embedding_27 (Embedding)     (None, 30, 40)            200000    \n",
      "_________________________________________________________________\n",
      "gru_3 (GRU)                  (None, 100)               42600     \n",
      "_________________________________________________________________\n",
      "3rd_layer (Dense)            (None, 1)                 101       \n",
      "_________________________________________________________________\n",
      "output_layer (Dense)         (None, 2)                 4         \n",
      "=================================================================\n",
      "Total params: 242,705\n",
      "Trainable params: 242,705\n",
      "Non-trainable params: 0\n",
      "_________________________________________________________________\n"
     ]
    }
   ],
   "source": [
    "# GRU neural Network\n",
    "gru_model = Sequential(name = 'gru_nn_model')\n",
    "gru_model.add(Embedding(voc_size,embedding_vector_feature, input_length=max_length))\n",
    "gru_model.add(GRU(100))\n",
    "gru_model.add(Dense(1, activation = 'relu', name = '3rd_layer'))\n",
    "gru_model.add(Dense(nclasses, activation='sigmoid', name = 'output_layer'))\n",
    "# compiling the model\n",
    "gru_model.compile(optimizer = 'adam', loss = 'sparse_categorical_crossentropy', metrics = ['accuracy'])\n",
    "gru_model.summary()"
   ]
  },
  {
   "cell_type": "code",
   "execution_count": 298,
   "metadata": {},
   "outputs": [
    {
     "name": "stdout",
     "output_type": "stream",
     "text": [
      "\n",
      "Epoch-by-Epoch Training Process for Gru model\n",
      "Train on 10971 samples, validate on 3657 samples\n",
      "Epoch 1/10\n",
      "10971/10971 - 6s - loss: 0.4273 - accuracy: 0.8292 - val_loss: 0.3310 - val_accuracy: 0.9057\n",
      "Epoch 2/10\n",
      "10971/10971 - 6s - loss: 0.3039 - accuracy: 0.9146 - val_loss: 0.3060 - val_accuracy: 0.9147\n",
      "Epoch 3/10\n",
      "10971/10971 - 6s - loss: 0.2593 - accuracy: 0.9258 - val_loss: 0.2769 - val_accuracy: 0.9122\n",
      "Epoch 4/10\n",
      "10971/10971 - 5s - loss: 0.2245 - accuracy: 0.9370 - val_loss: 0.2470 - val_accuracy: 0.9174\n",
      "Epoch 5/10\n",
      "10971/10971 - 6s - loss: 0.1957 - accuracy: 0.9449 - val_loss: 0.2404 - val_accuracy: 0.9141\n",
      "Epoch 6/10\n",
      "10971/10971 - 6s - loss: 0.1746 - accuracy: 0.9521 - val_loss: 0.2368 - val_accuracy: 0.9139\n",
      "Epoch 7/10\n",
      "10971/10971 - 5s - loss: 0.1582 - accuracy: 0.9558 - val_loss: 0.2248 - val_accuracy: 0.9177\n",
      "Epoch 8/10\n",
      "10971/10971 - 5s - loss: 0.1471 - accuracy: 0.9595 - val_loss: 0.2388 - val_accuracy: 0.9141\n",
      "Epoch 9/10\n",
      "10971/10971 - 5s - loss: 0.1392 - accuracy: 0.9613 - val_loss: 0.2381 - val_accuracy: 0.9169\n",
      "\n",
      "Time of execution for training (seconds):     51.521\n"
     ]
    }
   ],
   "source": [
    "print('\\nEpoch-by-Epoch Training Process for Gru model')\n",
    "begin_time = time()\n",
    "gru_modelHistory = gru_model.fit(X_train,y_train,\n",
    "    epochs = max_epochs, shuffle = False,\n",
    "    validation_data = (X_dev,y_dev), \n",
    "    verbose = 2,\n",
    "    callbacks = [earlystop_callback])\n",
    "execution_time = time() - begin_time\n",
    "print('\\nTime of execution for training (seconds):', \\\n",
    "\t'{:10.3f}'.format(np.round(execution_time, decimals = 3)))"
   ]
  },
  {
   "cell_type": "code",
   "execution_count": 299,
   "metadata": {},
   "outputs": [
    {
     "name": "stdout",
     "output_type": "stream",
     "text": [
      "\n",
      "gru_model Full training set accuracy: 0.9638 \n",
      "\n"
     ]
    }
   ],
   "source": [
    "# evaluate fitted model on the full training set\n",
    "train_loss, train_acc = gru_model.evaluate(X_train,y_train,verbose = 3)\n",
    "print('\\ngru_model Full training set accuracy:', \\\n",
    "\t'{:6.4f}'.format(np.round(train_acc, decimals = 4)), '\\n')"
   ]
  },
  {
   "cell_type": "code",
   "execution_count": 300,
   "metadata": {},
   "outputs": [
    {
     "name": "stdout",
     "output_type": "stream",
     "text": [
      "gru_model Hold-out test set accuracy: 0.9141\n"
     ]
    }
   ],
   "source": [
    "# evaluate the fitted model on the hold-out test set\n",
    "test_loss, test_acc = gru_model.evaluate(X_test,  y_test, verbose = 3)\n",
    "print('gru_model Hold-out test set accuracy:', \\\n",
    "\t'{:6.4f}'.format(np.round(test_acc, decimals = 4)))"
   ]
  },
  {
   "cell_type": "code",
   "execution_count": 301,
   "metadata": {},
   "outputs": [
    {
     "data": {
      "image/png": "[encoded data removed]",
      "text/plain": [
       "<Figure size 720x360 with 2 Axes>"
      ]
     },
     "metadata": {},
     "output_type": "display_data"
    }
   ],
   "source": [
    "# show training process in external visualizations\n",
    "plot_history(gru_modelHistory) "
   ]
  },
  {
   "cell_type": "code",
   "execution_count": 302,
   "metadata": {},
   "outputs": [],
   "source": [
    "grutest_preds = np.argmax(gru_model.predict(X_test), axis = 1)"
   ]
  },
  {
   "cell_type": "code",
   "execution_count": 303,
   "metadata": {},
   "outputs": [
    {
     "name": "stdout",
     "output_type": "stream",
     "text": [
      "\n",
      "Classification Report for Hold-out Test Set:\n",
      "\n",
      "              precision    recall  f1-score   support\n",
      "\n",
      "           0       0.96      0.89      0.92      2040\n",
      "           1       0.87      0.95      0.91      1617\n",
      "\n",
      "    accuracy                           0.91      3657\n",
      "   macro avg       0.91      0.92      0.91      3657\n",
      "weighted avg       0.92      0.91      0.91      3657\n",
      "\n"
     ]
    }
   ],
   "source": [
    "print(\"\\nClassification Report for Hold-out Test Set:\\n\\n%s\"\n",
    "      % (metrics.classification_report(y_test, grutest_preds)))"
   ]
  },
  {
   "cell_type": "code",
   "execution_count": 305,
   "metadata": {},
   "outputs": [
    {
     "name": "stdout",
     "output_type": "stream",
     "text": [
      "Test set F1 (weighted average): 0.9144 \n",
      "\n"
     ]
    }
   ],
   "source": [
    "F1_value = \\\n",
    "    metrics.precision_recall_fscore_support(y_test, grutest_preds, average='weighted')[2]\n",
    "print('Test set F1 (weighted average):', \\\n",
    "\t'{:6.4f}'.format(np.round(F1_value, decimals = 4)),'\\n')"
   ]
  },
  {
   "cell_type": "code",
   "execution_count": 306,
   "metadata": {},
   "outputs": [
    {
     "data": {
      "image/png": "[encoded data removed]",
      "text/plain": [
       "<Figure size 432x288 with 1 Axes>"
      ]
     },
     "metadata": {},
     "output_type": "display_data"
    }
   ],
   "source": [
    "plot_confusion('GRU', y_test,grutest_preds)"
   ]
  },
  {
   "cell_type": "code",
   "execution_count": null,
   "metadata": {},
   "outputs": [],
   "source": []
  },
  {
   "cell_type": "code",
   "execution_count": null,
   "metadata": {},
   "outputs": [],
   "source": []
  }
 ],
 "metadata": {
  "kernelspec": {
   "display_name": "Python 3",
   "language": "python",
   "name": "python3"
  },
  "language_info": {
   "codemirror_mode": {
    "name": "ipython",
    "version": 3
   },
   "file_extension": ".py",
   "mimetype": "text/x-python",
   "name": "python",
   "nbconvert_exporter": "python",
   "pygments_lexer": "ipython3",
   "version": "3.7.7"
  }
 },
 "nbformat": 4,
 "nbformat_minor": 4
}
